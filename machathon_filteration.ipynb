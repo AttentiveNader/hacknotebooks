{
  "nbformat": 4,
  "nbformat_minor": 0,
  "metadata": {
    "kernelspec": {
      "name": "python3",
      "display_name": "Python 3"
    },
    "language_info": {
      "codemirror_mode": {
        "name": "ipython",
        "version": 3
      },
      "file_extension": ".py",
      "mimetype": "text/x-python",
      "name": "python",
      "nbconvert_exporter": "python",
      "pygments_lexer": "ipython3",
      "version": "3.7.4"
    },
    "colab": {
      "name": "machathon filteration.ipynb",
      "provenance": [],
      "collapsed_sections": [],
      "toc_visible": true,
      "include_colab_link": true
    },
    "accelerator": "GPU"
  },
  "cells": [
    {
      "cell_type": "markdown",
      "metadata": {
        "id": "view-in-github",
        "colab_type": "text"
      },
      "source": [
        "<a href=\"https://colab.research.google.com/github/NaderJS/hacknotebooks/blob/master/machathon_filteration.ipynb\" target=\"_parent\"><img src=\"https://colab.research.google.com/assets/colab-badge.svg\" alt=\"Open In Colab\"/></a>"
      ]
    },
    {
      "cell_type": "markdown",
      "metadata": {
        "id": "bXTCXrfaKw3X",
        "colab_type": "text"
      },
      "source": [
        "#Machathon Filteration\n",
        "https://www.kaggle.com/c/machathon-10-filteration-test"
      ]
    },
    {
      "cell_type": "code",
      "metadata": {
        "id": "xcPx1XByUzx7",
        "colab_type": "code",
        "colab": {}
      },
      "source": [
        "import pandas as pd\n",
        "import numpy as np\n",
        "from catboost import CatBoostRegressor\n",
        "from sklearn.ensemble import RandomForestRegressor\n",
        "from sklearn.metrics import mean_absolute_error\n",
        "from sklearn.model_selection import train_test_split\n",
        "from catboost import Pool\n",
        "from tensorflow.keras.models import Sequential\n",
        "import tensorflow as tf\n",
        "from tensorflow.keras.layers import Dense,Dropout\n",
        "from keras.layers import BatchNormalization\n",
        "from tensorflow import keras\n",
        "from sklearn.preprocessing import StandardScaler\n",
        "\n"
      ],
      "execution_count": 0,
      "outputs": []
    },
    {
      "cell_type": "code",
      "metadata": {
        "id": "14gpxzuxh-42",
        "colab_type": "code",
        "outputId": "c41b5c19-20c6-4e05-b870-2f542d8f2d07",
        "colab": {
          "base_uri": "https://localhost:8080/",
          "height": 274
        }
      },
      "source": [
        "!pip install bayesian-optimization"
      ],
      "execution_count": 0,
      "outputs": [
        {
          "output_type": "stream",
          "text": [
            "Collecting bayesian-optimization\n",
            "  Downloading https://files.pythonhosted.org/packages/72/0c/173ac467d0a53e33e41b521e4ceba74a8ac7c7873d7b857a8fbdca88302d/bayesian-optimization-1.0.1.tar.gz\n",
            "Requirement already satisfied: numpy>=1.9.0 in /usr/local/lib/python3.6/dist-packages (from bayesian-optimization) (1.17.5)\n",
            "Requirement already satisfied: scipy>=0.14.0 in /usr/local/lib/python3.6/dist-packages (from bayesian-optimization) (1.4.1)\n",
            "Requirement already satisfied: scikit-learn>=0.18.0 in /usr/local/lib/python3.6/dist-packages (from bayesian-optimization) (0.22.1)\n",
            "Requirement already satisfied: joblib>=0.11 in /usr/local/lib/python3.6/dist-packages (from scikit-learn>=0.18.0->bayesian-optimization) (0.14.1)\n",
            "Building wheels for collected packages: bayesian-optimization\n",
            "  Building wheel for bayesian-optimization (setup.py) ... \u001b[?25l\u001b[?25hdone\n",
            "  Created wheel for bayesian-optimization: filename=bayesian_optimization-1.0.1-cp36-none-any.whl size=10032 sha256=4e622e581a579532007d025af1a44109bcdaafadb4ff61c40da39a9bcd0182ab\n",
            "  Stored in directory: /root/.cache/pip/wheels/1d/0d/3b/6b9d4477a34b3905f246ff4e7acf6aafd4cc9b77d473629b77\n",
            "Successfully built bayesian-optimization\n",
            "Installing collected packages: bayesian-optimization\n",
            "Successfully installed bayesian-optimization-1.0.1\n"
          ],
          "name": "stdout"
        }
      ]
    },
    {
      "cell_type": "code",
      "metadata": {
        "id": "dlGT5N84VYpg",
        "colab_type": "code",
        "outputId": "150f3121-9de1-43f8-b87e-9647ce422020",
        "colab": {
          "base_uri": "https://localhost:8080/",
          "height": 383
        }
      },
      "source": [
        "!pip install catboost"
      ],
      "execution_count": 0,
      "outputs": [
        {
          "output_type": "stream",
          "text": [
            "Collecting catboost\n",
            "\u001b[?25l  Downloading https://files.pythonhosted.org/packages/ca/ae/aaff63662f7f5d2af7ec8d61a6f39e78ada9348e5df4f43e665ecc4bea10/catboost-0.21-cp36-none-manylinux1_x86_64.whl (64.0MB)\n",
            "\u001b[K     |████████████████████████████████| 64.0MB 47kB/s \n",
            "\u001b[?25hRequirement already satisfied: plotly in /usr/local/lib/python3.6/dist-packages (from catboost) (4.4.1)\n",
            "Requirement already satisfied: six in /usr/local/lib/python3.6/dist-packages (from catboost) (1.12.0)\n",
            "Requirement already satisfied: pandas>=0.24.0 in /usr/local/lib/python3.6/dist-packages (from catboost) (0.25.3)\n",
            "Requirement already satisfied: graphviz in /usr/local/lib/python3.6/dist-packages (from catboost) (0.10.1)\n",
            "Requirement already satisfied: matplotlib in /usr/local/lib/python3.6/dist-packages (from catboost) (3.1.2)\n",
            "Requirement already satisfied: numpy>=1.16.0 in /usr/local/lib/python3.6/dist-packages (from catboost) (1.17.5)\n",
            "Requirement already satisfied: scipy in /usr/local/lib/python3.6/dist-packages (from catboost) (1.4.1)\n",
            "Requirement already satisfied: retrying>=1.3.3 in /usr/local/lib/python3.6/dist-packages (from plotly->catboost) (1.3.3)\n",
            "Requirement already satisfied: python-dateutil>=2.6.1 in /usr/local/lib/python3.6/dist-packages (from pandas>=0.24.0->catboost) (2.6.1)\n",
            "Requirement already satisfied: pytz>=2017.2 in /usr/local/lib/python3.6/dist-packages (from pandas>=0.24.0->catboost) (2018.9)\n",
            "Requirement already satisfied: kiwisolver>=1.0.1 in /usr/local/lib/python3.6/dist-packages (from matplotlib->catboost) (1.1.0)\n",
            "Requirement already satisfied: cycler>=0.10 in /usr/local/lib/python3.6/dist-packages (from matplotlib->catboost) (0.10.0)\n",
            "Requirement already satisfied: pyparsing!=2.0.4,!=2.1.2,!=2.1.6,>=2.0.1 in /usr/local/lib/python3.6/dist-packages (from matplotlib->catboost) (2.4.6)\n",
            "Requirement already satisfied: setuptools in /usr/local/lib/python3.6/dist-packages (from kiwisolver>=1.0.1->matplotlib->catboost) (42.0.2)\n",
            "Installing collected packages: catboost\n",
            "Successfully installed catboost-0.21\n"
          ],
          "name": "stdout"
        }
      ]
    },
    {
      "cell_type": "code",
      "metadata": {
        "id": "MOxOgYxpU63q",
        "colab_type": "code",
        "outputId": "ef3b949c-1497-456b-991f-1a6d39535cac",
        "colab": {
          "base_uri": "https://localhost:8080/",
          "height": 35
        }
      },
      "source": [
        "!pwd"
      ],
      "execution_count": 0,
      "outputs": [
        {
          "output_type": "stream",
          "text": [
            "/content\n"
          ],
          "name": "stdout"
        }
      ]
    },
    {
      "cell_type": "code",
      "metadata": {
        "id": "_QU4HEgxUzyK",
        "colab_type": "code",
        "colab": {}
      },
      "source": [
        "traindata = pd.read_csv(\"./train.csv\")"
      ],
      "execution_count": 0,
      "outputs": []
    },
    {
      "cell_type": "code",
      "metadata": {
        "id": "AkB_HakFUzyR",
        "colab_type": "code",
        "colab": {}
      },
      "source": [
        "traindata.head(40)"
      ],
      "execution_count": 0,
      "outputs": []
    },
    {
      "cell_type": "code",
      "metadata": {
        "id": "_MWhtSwRUzyc",
        "colab_type": "code",
        "colab": {}
      },
      "source": [
        "traindata.drop([\"Unnamed: 0\",\"WellID\"],axis=1,inplace=True)"
      ],
      "execution_count": 0,
      "outputs": []
    },
    {
      "cell_type": "code",
      "metadata": {
        "id": "qbIQ5f7jUzyi",
        "colab_type": "code",
        "colab": {}
      },
      "source": [
        "y = traindata[\"TotalOilInNext6Months\"]\n",
        "X = traindata.drop(\"TotalOilInNext6Months\",axis=1)"
      ],
      "execution_count": 0,
      "outputs": []
    },
    {
      "cell_type": "code",
      "metadata": {
        "id": "v_-xE3tfUzyn",
        "colab_type": "code",
        "outputId": "df0b208b-2828-4b8f-a598-8296e0fb992d",
        "colab": {}
      },
      "source": [
        "traindata.describe()"
      ],
      "execution_count": 0,
      "outputs": [
        {
          "output_type": "execute_result",
          "data": {
            "text/html": [
              "<div>\n",
              "<style scoped>\n",
              "    .dataframe tbody tr th:only-of-type {\n",
              "        vertical-align: middle;\n",
              "    }\n",
              "\n",
              "    .dataframe tbody tr th {\n",
              "        vertical-align: top;\n",
              "    }\n",
              "\n",
              "    .dataframe thead th {\n",
              "        text-align: right;\n",
              "    }\n",
              "</style>\n",
              "<table border=\"1\" class=\"dataframe\">\n",
              "  <thead>\n",
              "    <tr style=\"text-align: right;\">\n",
              "      <th></th>\n",
              "      <th>FirstMonthOil</th>\n",
              "      <th>FirstMonthGas</th>\n",
              "      <th>FirstMonthRatioGasOil</th>\n",
              "      <th>FirstMonthWater</th>\n",
              "      <th>firstMonthPercentWater</th>\n",
              "      <th>FirstMonthDaysOn</th>\n",
              "      <th>SecondMonthOil</th>\n",
              "      <th>SecondMonthGas</th>\n",
              "      <th>SecondMonthRatioGasOil</th>\n",
              "      <th>SecondMonthWater</th>\n",
              "      <th>...</th>\n",
              "      <th>FifthMonthPercentWater</th>\n",
              "      <th>FifthMonthDaysOn</th>\n",
              "      <th>SixthMonthOil</th>\n",
              "      <th>SixthMonthGas</th>\n",
              "      <th>SixthMonthRatioGasOil</th>\n",
              "      <th>SixthMonthWater</th>\n",
              "      <th>SixthMonthPercentWater</th>\n",
              "      <th>SixthMonthDaysOn</th>\n",
              "      <th>TotalOilInNext6Months</th>\n",
              "      <th>TotalGasInNext6Months</th>\n",
              "    </tr>\n",
              "  </thead>\n",
              "  <tbody>\n",
              "    <tr>\n",
              "      <th>count</th>\n",
              "      <td>9324.000000</td>\n",
              "      <td>9324.000000</td>\n",
              "      <td>9324.000000</td>\n",
              "      <td>9.324000e+03</td>\n",
              "      <td>9324.000000</td>\n",
              "      <td>9324.000000</td>\n",
              "      <td>9324.000000</td>\n",
              "      <td>9324.000000</td>\n",
              "      <td>9324.000000</td>\n",
              "      <td>9.324000e+03</td>\n",
              "      <td>...</td>\n",
              "      <td>9324.000000</td>\n",
              "      <td>9324.000000</td>\n",
              "      <td>9324.000000</td>\n",
              "      <td>9324.000000</td>\n",
              "      <td>9324.000000</td>\n",
              "      <td>9324.000000</td>\n",
              "      <td>9324.000000</td>\n",
              "      <td>9324.000000</td>\n",
              "      <td>9324.000000</td>\n",
              "      <td>9.324000e+03</td>\n",
              "    </tr>\n",
              "    <tr>\n",
              "      <th>mean</th>\n",
              "      <td>10975.998391</td>\n",
              "      <td>23654.428142</td>\n",
              "      <td>36.483768</td>\n",
              "      <td>7.050517e+03</td>\n",
              "      <td>0.793089</td>\n",
              "      <td>19.624303</td>\n",
              "      <td>7361.601459</td>\n",
              "      <td>19751.486808</td>\n",
              "      <td>71.088354</td>\n",
              "      <td>3.985776e+03</td>\n",
              "      <td>...</td>\n",
              "      <td>0.739190</td>\n",
              "      <td>18.994316</td>\n",
              "      <td>4239.232947</td>\n",
              "      <td>12985.894466</td>\n",
              "      <td>21.405811</td>\n",
              "      <td>2551.490562</td>\n",
              "      <td>0.763946</td>\n",
              "      <td>19.130309</td>\n",
              "      <td>19742.820249</td>\n",
              "      <td>6.355971e+04</td>\n",
              "    </tr>\n",
              "    <tr>\n",
              "      <th>std</th>\n",
              "      <td>8091.976505</td>\n",
              "      <td>35067.286099</td>\n",
              "      <td>891.599302</td>\n",
              "      <td>1.800020e+04</td>\n",
              "      <td>5.943600</td>\n",
              "      <td>13.369777</td>\n",
              "      <td>5960.634208</td>\n",
              "      <td>30780.151750</td>\n",
              "      <td>1865.962676</td>\n",
              "      <td>1.440518e+04</td>\n",
              "      <td>...</td>\n",
              "      <td>3.002129</td>\n",
              "      <td>13.670981</td>\n",
              "      <td>3618.018873</td>\n",
              "      <td>19470.328468</td>\n",
              "      <td>601.380057</td>\n",
              "      <td>8158.773532</td>\n",
              "      <td>3.272239</td>\n",
              "      <td>13.737993</td>\n",
              "      <td>15678.751814</td>\n",
              "      <td>9.197275e+04</td>\n",
              "    </tr>\n",
              "    <tr>\n",
              "      <th>min</th>\n",
              "      <td>0.000000</td>\n",
              "      <td>0.000000</td>\n",
              "      <td>0.000000</td>\n",
              "      <td>0.000000e+00</td>\n",
              "      <td>0.000000</td>\n",
              "      <td>0.000000</td>\n",
              "      <td>0.000000</td>\n",
              "      <td>0.000000</td>\n",
              "      <td>0.000000</td>\n",
              "      <td>0.000000e+00</td>\n",
              "      <td>...</td>\n",
              "      <td>0.000000</td>\n",
              "      <td>0.000000</td>\n",
              "      <td>0.000000</td>\n",
              "      <td>0.000000</td>\n",
              "      <td>0.000000</td>\n",
              "      <td>0.000000</td>\n",
              "      <td>0.000000</td>\n",
              "      <td>0.000000</td>\n",
              "      <td>0.000000</td>\n",
              "      <td>0.000000e+00</td>\n",
              "    </tr>\n",
              "    <tr>\n",
              "      <th>25%</th>\n",
              "      <td>5140.500000</td>\n",
              "      <td>5928.000000</td>\n",
              "      <td>0.664069</td>\n",
              "      <td>0.000000e+00</td>\n",
              "      <td>0.000000</td>\n",
              "      <td>0.000000</td>\n",
              "      <td>3057.750000</td>\n",
              "      <td>4207.750000</td>\n",
              "      <td>0.671820</td>\n",
              "      <td>0.000000e+00</td>\n",
              "      <td>...</td>\n",
              "      <td>0.000000</td>\n",
              "      <td>0.000000</td>\n",
              "      <td>1628.000000</td>\n",
              "      <td>2930.500000</td>\n",
              "      <td>0.702584</td>\n",
              "      <td>0.000000</td>\n",
              "      <td>0.000000</td>\n",
              "      <td>0.000000</td>\n",
              "      <td>8073.250000</td>\n",
              "      <td>1.690325e+04</td>\n",
              "    </tr>\n",
              "    <tr>\n",
              "      <th>50%</th>\n",
              "      <td>9281.000000</td>\n",
              "      <td>13158.000000</td>\n",
              "      <td>1.151556</td>\n",
              "      <td>4.115000e+03</td>\n",
              "      <td>0.345983</td>\n",
              "      <td>28.000000</td>\n",
              "      <td>6039.000000</td>\n",
              "      <td>10200.000000</td>\n",
              "      <td>1.257137</td>\n",
              "      <td>2.158500e+03</td>\n",
              "      <td>...</td>\n",
              "      <td>0.250708</td>\n",
              "      <td>28.000000</td>\n",
              "      <td>3433.500000</td>\n",
              "      <td>6542.000000</td>\n",
              "      <td>1.412128</td>\n",
              "      <td>1077.000000</td>\n",
              "      <td>0.250451</td>\n",
              "      <td>28.000000</td>\n",
              "      <td>16437.000000</td>\n",
              "      <td>3.321850e+04</td>\n",
              "    </tr>\n",
              "    <tr>\n",
              "      <th>75%</th>\n",
              "      <td>15075.500000</td>\n",
              "      <td>26262.500000</td>\n",
              "      <td>2.745121</td>\n",
              "      <td>1.019175e+04</td>\n",
              "      <td>0.935886</td>\n",
              "      <td>30.000000</td>\n",
              "      <td>10172.250000</td>\n",
              "      <td>22444.250000</td>\n",
              "      <td>3.433525</td>\n",
              "      <td>5.748500e+03</td>\n",
              "      <td>...</td>\n",
              "      <td>0.775836</td>\n",
              "      <td>31.000000</td>\n",
              "      <td>5938.250000</td>\n",
              "      <td>15021.750000</td>\n",
              "      <td>4.593442</td>\n",
              "      <td>3674.250000</td>\n",
              "      <td>0.797680</td>\n",
              "      <td>31.000000</td>\n",
              "      <td>27737.500000</td>\n",
              "      <td>7.100925e+04</td>\n",
              "    </tr>\n",
              "    <tr>\n",
              "      <th>max</th>\n",
              "      <td>64499.000000</td>\n",
              "      <td>476177.000000</td>\n",
              "      <td>55789.500000</td>\n",
              "      <td>1.451478e+06</td>\n",
              "      <td>527.666667</td>\n",
              "      <td>31.000000</td>\n",
              "      <td>54790.000000</td>\n",
              "      <td>481633.000000</td>\n",
              "      <td>115698.000000</td>\n",
              "      <td>1.226836e+06</td>\n",
              "      <td>...</td>\n",
              "      <td>129.594937</td>\n",
              "      <td>31.000000</td>\n",
              "      <td>39832.000000</td>\n",
              "      <td>329776.000000</td>\n",
              "      <td>45804.250000</td>\n",
              "      <td>649898.000000</td>\n",
              "      <td>147.000000</td>\n",
              "      <td>31.000000</td>\n",
              "      <td>203364.000000</td>\n",
              "      <td>1.169180e+06</td>\n",
              "    </tr>\n",
              "  </tbody>\n",
              "</table>\n",
              "<p>8 rows × 38 columns</p>\n",
              "</div>"
            ],
            "text/plain": [
              "       FirstMonthOil  FirstMonthGas  FirstMonthRatioGasOil  FirstMonthWater  \\\n",
              "count    9324.000000    9324.000000            9324.000000     9.324000e+03   \n",
              "mean    10975.998391   23654.428142              36.483768     7.050517e+03   \n",
              "std      8091.976505   35067.286099             891.599302     1.800020e+04   \n",
              "min         0.000000       0.000000               0.000000     0.000000e+00   \n",
              "25%      5140.500000    5928.000000               0.664069     0.000000e+00   \n",
              "50%      9281.000000   13158.000000               1.151556     4.115000e+03   \n",
              "75%     15075.500000   26262.500000               2.745121     1.019175e+04   \n",
              "max     64499.000000  476177.000000           55789.500000     1.451478e+06   \n",
              "\n",
              "       firstMonthPercentWater  FirstMonthDaysOn  SecondMonthOil  \\\n",
              "count             9324.000000       9324.000000     9324.000000   \n",
              "mean                 0.793089         19.624303     7361.601459   \n",
              "std                  5.943600         13.369777     5960.634208   \n",
              "min                  0.000000          0.000000        0.000000   \n",
              "25%                  0.000000          0.000000     3057.750000   \n",
              "50%                  0.345983         28.000000     6039.000000   \n",
              "75%                  0.935886         30.000000    10172.250000   \n",
              "max                527.666667         31.000000    54790.000000   \n",
              "\n",
              "       SecondMonthGas  SecondMonthRatioGasOil  SecondMonthWater  ...  \\\n",
              "count     9324.000000             9324.000000      9.324000e+03  ...   \n",
              "mean     19751.486808               71.088354      3.985776e+03  ...   \n",
              "std      30780.151750             1865.962676      1.440518e+04  ...   \n",
              "min          0.000000                0.000000      0.000000e+00  ...   \n",
              "25%       4207.750000                0.671820      0.000000e+00  ...   \n",
              "50%      10200.000000                1.257137      2.158500e+03  ...   \n",
              "75%      22444.250000                3.433525      5.748500e+03  ...   \n",
              "max     481633.000000           115698.000000      1.226836e+06  ...   \n",
              "\n",
              "       FifthMonthPercentWater  FifthMonthDaysOn  SixthMonthOil  SixthMonthGas  \\\n",
              "count             9324.000000       9324.000000    9324.000000    9324.000000   \n",
              "mean                 0.739190         18.994316    4239.232947   12985.894466   \n",
              "std                  3.002129         13.670981    3618.018873   19470.328468   \n",
              "min                  0.000000          0.000000       0.000000       0.000000   \n",
              "25%                  0.000000          0.000000    1628.000000    2930.500000   \n",
              "50%                  0.250708         28.000000    3433.500000    6542.000000   \n",
              "75%                  0.775836         31.000000    5938.250000   15021.750000   \n",
              "max                129.594937         31.000000   39832.000000  329776.000000   \n",
              "\n",
              "       SixthMonthRatioGasOil  SixthMonthWater  SixthMonthPercentWater  \\\n",
              "count            9324.000000      9324.000000             9324.000000   \n",
              "mean               21.405811      2551.490562                0.763946   \n",
              "std               601.380057      8158.773532                3.272239   \n",
              "min                 0.000000         0.000000                0.000000   \n",
              "25%                 0.702584         0.000000                0.000000   \n",
              "50%                 1.412128      1077.000000                0.250451   \n",
              "75%                 4.593442      3674.250000                0.797680   \n",
              "max             45804.250000    649898.000000              147.000000   \n",
              "\n",
              "       SixthMonthDaysOn  TotalOilInNext6Months  TotalGasInNext6Months  \n",
              "count       9324.000000            9324.000000           9.324000e+03  \n",
              "mean          19.130309           19742.820249           6.355971e+04  \n",
              "std           13.737993           15678.751814           9.197275e+04  \n",
              "min            0.000000               0.000000           0.000000e+00  \n",
              "25%            0.000000            8073.250000           1.690325e+04  \n",
              "50%           28.000000           16437.000000           3.321850e+04  \n",
              "75%           31.000000           27737.500000           7.100925e+04  \n",
              "max           31.000000          203364.000000           1.169180e+06  \n",
              "\n",
              "[8 rows x 38 columns]"
            ]
          },
          "metadata": {
            "tags": []
          },
          "execution_count": 12
        }
      ]
    },
    {
      "cell_type": "code",
      "metadata": {
        "id": "jyKtJfDpUzyu",
        "colab_type": "code",
        "colab": {}
      },
      "source": [
        ""
      ],
      "execution_count": 0,
      "outputs": []
    },
    {
      "cell_type": "code",
      "metadata": {
        "id": "bgat9HJoUzy2",
        "colab_type": "code",
        "outputId": "c5848f96-2e1c-4015-be83-bd26148ed1e5",
        "colab": {}
      },
      "source": [
        "traindata.eq(0).sum()/len(traindata)"
      ],
      "execution_count": 0,
      "outputs": [
        {
          "output_type": "execute_result",
          "data": {
            "text/plain": [
              "FirstMonthOil              0.003325\n",
              "FirstMonthGas              0.036358\n",
              "FirstMonthRatioGasOil      0.039575\n",
              "FirstMonthWater            0.339768\n",
              "firstMonthPercentWater     0.340519\n",
              "FirstMonthDaysOn           0.302982\n",
              "SecondMonthOil             0.030459\n",
              "SecondMonthGas             0.036251\n",
              "SecondMonthRatioGasOil     0.057701\n",
              "SecondMonthWater           0.334728\n",
              "SecondMonthPercentWater    0.336444\n",
              "SecondMonthDaysOn          0.309095\n",
              "ThirdMonthOil              0.030245\n",
              "ThirdMonthGas              0.032604\n",
              "ThirdMonthRatioGasOil      0.054376\n",
              "ThirdMonthWater            0.325504\n",
              "ThirdMonthPercentWater     0.326791\n",
              "ThirdMonthDaysOn           0.308988\n",
              "FourthMonthOil             0.035178\n",
              "FourthMonthGas             0.033462\n",
              "FourthMonthRatioGasOil     0.057164\n",
              "FourthMonthWater           0.321214\n",
              "FourthMonthPercentWater    0.323252\n",
              "FourthMonthDaysOn          0.311776\n",
              "FifthMonthOil              0.036894\n",
              "FifthMonthGas              0.034535\n",
              "FifthMonthRatioGasOil      0.059524\n",
              "FifthMonthWater            0.321858\n",
              "FifthMonthPercentWater     0.324003\n",
              "FifthMonthDaysOn           0.311562\n",
              "SixthMonthOil              0.036572\n",
              "SixthMonthGas              0.033998\n",
              "SixthMonthRatioGasOil      0.057808\n",
              "SixthMonthWater            0.317782\n",
              "SixthMonthPercentWater     0.319927\n",
              "SixthMonthDaysOn           0.312312\n",
              "TotalOilInNext6Months      0.009009\n",
              "TotalGasInNext6Months      0.008580\n",
              "dtype: float64"
            ]
          },
          "metadata": {
            "tags": []
          },
          "execution_count": 16
        }
      ]
    },
    {
      "cell_type": "code",
      "metadata": {
        "id": "Tk03EX-2Uzy_",
        "colab_type": "code",
        "colab": {}
      },
      "source": [
        "xt,xp,yt,yp = train_test_split(X,y,shuffle=True)"
      ],
      "execution_count": 0,
      "outputs": []
    },
    {
      "cell_type": "code",
      "metadata": {
        "id": "0XO3V1BaUzzH",
        "colab_type": "code",
        "outputId": "6163c6f0-3baf-4bfe-9ea9-ed3959210bf2",
        "colab": {
          "base_uri": "https://localhost:8080/",
          "height": 35
        }
      },
      "source": [
        "rf= RandomForestRegressor(max_features=0.6,n_estimators=125,min_samples_leaf=7)\n",
        "rf.fit(xt,yt)\n",
        "vals = rf.predict(xp)\n",
        "mean_absolute_error(yp,vals)"
      ],
      "execution_count": 0,
      "outputs": [
        {
          "output_type": "execute_result",
          "data": {
            "text/plain": [
              "3094.696349553559"
            ]
          },
          "metadata": {
            "tags": []
          },
          "execution_count": 113
        }
      ]
    },
    {
      "cell_type": "code",
      "metadata": {
        "id": "cWmJ18LwUzzR",
        "colab_type": "code",
        "colab": {}
      },
      "source": [
        ""
      ],
      "execution_count": 0,
      "outputs": []
    },
    {
      "cell_type": "code",
      "metadata": {
        "id": "UlsPgnR-UzzY",
        "colab_type": "code",
        "colab": {}
      },
      "source": [
        ""
      ],
      "execution_count": 0,
      "outputs": []
    },
    {
      "cell_type": "code",
      "metadata": {
        "id": "BGaQ_E-HUzzd",
        "colab_type": "code",
        "colab": {}
      },
      "source": [
        "cat = CatBoostRegressor(random_state=56,learning_rate=0.03078496171814678,subsample = 0.7966067900567058,iterations=2500,max_depth=int(round(5.941162788606626)),l2_leaf_reg =0.39240391456470025,colsample_bylevel=0.6763514233486307,eval_metric=\"MAE\",early_stopping_rounds=900)\n",
        "val_set=Pool(xp,yp)\n",
        "# cat.fit(xt,yt,eval_set=val_set,early_stopping_rounds=900,verbose=500)"
      ],
      "execution_count": 0,
      "outputs": []
    },
    {
      "cell_type": "code",
      "metadata": {
        "id": "94cxwF42NvU9",
        "colab_type": "code",
        "colab": {}
      },
      "source": [
        "losses=[]\n",
        "\n",
        "for (i,val) in enumerate(xp.iterrows()):\n",
        "  print(val[1])\n",
        "  pred = cat.predict(val[1])\n",
        "  losses.append((yp.iloc[i],mean_absolute_error(yp.iloc[i],pred)))\n",
        "\n",
        "losses = Sort_Tuple(losses)\n",
        "losses[:5]\n",
        "\n",
        "  "
      ],
      "execution_count": 0,
      "outputs": []
    },
    {
      "cell_type": "code",
      "metadata": {
        "id": "CNN_MiZ-kvLw",
        "colab_type": "code",
        "outputId": "043f1660-46e3-4a61-b665-7c8781595643",
        "colab": {
          "base_uri": "https://localhost:8080/",
          "height": 35
        }
      },
      "source": [
        "cat.best_score_[\"validation\"][\"MAE\"]"
      ],
      "execution_count": 0,
      "outputs": [
        {
          "output_type": "execute_result",
          "data": {
            "text/plain": [
              "2891.3749463749464"
            ]
          },
          "metadata": {
            "tags": []
          },
          "execution_count": 15
        }
      ]
    },
    {
      "cell_type": "markdown",
      "metadata": {
        "colab_type": "text",
        "id": "5a9X7elBN3up"
      },
      "source": [
        ""
      ]
    },
    {
      "cell_type": "code",
      "metadata": {
        "id": "FJKzxVYRUzzn",
        "colab_type": "code",
        "outputId": "756f4cd2-92bf-4be9-b14f-225471ee9a2e",
        "colab": {
          "base_uri": "https://localhost:8080/",
          "height": 1000
        }
      },
      "source": [
        "def traincat(learning_rate,max_depth,l2_leaf_reg,colsample_bylevel,subsample):\n",
        "    cat =  CatBoostRegressor(random_state=42,learning_rate=learning_rate,subsample = subsample,iterations=2500,max_depth=int(round(max_depth)),l2_leaf_reg =l2_leaf_reg,colsample_bylevel=colsample_bylevel,eval_metric=\"MAE\",early_stopping_rounds=500)\n",
        "    valset = Pool(xp,yp)\n",
        "    cat.fit(xt,yt,eval_set=valset,verbose=500)\n",
        "    return -cat.best_score_[\"validation\"][\"MAE\"]\n",
        "\n",
        "bounds = {\n",
        "    'max_depth':(5,10),\n",
        "#     'min_rows':(10,30),\n",
        "    'l2_leaf_reg':(0.1,0.8),\n",
        "    'learning_rate':(0.001, 0.06),\n",
        "#     'sample_rate':(0.5,0.8),\n",
        "     'colsample_bylevel': (0.3,1),\n",
        "    'subsample' : (0.7,1)\n",
        "}\n",
        "\n",
        "optimizer = opt(\n",
        "    f=traincat,\n",
        "    pbounds=bounds,\n",
        "    random_state=1,\n",
        ")\n",
        "optimizer.maximize(init_points=10, n_iter=55)"
      ],
      "execution_count": 0,
      "outputs": [
        {
          "output_type": "stream",
          "text": [
            "|   iter    |  target   | colsam... | l2_lea... | learni... | max_depth | subsample |\n",
            "-------------------------------------------------------------------------------------\n",
            "0:\tlearn: 11956.2420196\ttest: 11706.6483240\tbest: 11706.6483240 (0)\ttotal: 15.8ms\tremaining: 39.4s\n",
            "500:\tlearn: 8216.8766044\ttest: 8069.5604820\tbest: 8069.5604820 (500)\ttotal: 5.5s\tremaining: 21.9s\n",
            "1000:\tlearn: 6070.4816775\ttest: 5999.7409748\tbest: 5999.7409748 (1000)\ttotal: 11s\tremaining: 16.5s\n",
            "1500:\tlearn: 4858.6396483\ttest: 4837.4333270\tbest: 4837.4333270 (1500)\ttotal: 16.5s\tremaining: 11s\n",
            "2000:\tlearn: 4153.0517696\ttest: 4175.3315625\tbest: 4175.3315625 (2000)\ttotal: 22s\tremaining: 5.48s\n",
            "2499:\tlearn: 3733.2920335\ttest: 3777.9737192\tbest: 3777.9737192 (2499)\ttotal: 27.4s\tremaining: 0us\n",
            "\n",
            "bestTest = 3777.973719\n",
            "bestIteration = 2499\n",
            "\n",
            "| \u001b[0m 1       \u001b[0m | \u001b[0m-3.778e+0\u001b[0m | \u001b[0m 0.5919  \u001b[0m | \u001b[0m 0.6042  \u001b[0m | \u001b[0m 0.001007\u001b[0m | \u001b[0m 6.512   \u001b[0m | \u001b[0m 0.744   \u001b[0m |\n",
            "0:\tlearn: 11762.5469603\ttest: 11514.9335063\tbest: 11514.9335063 (0)\ttotal: 9.53ms\tremaining: 23.8s\n",
            "500:\tlearn: 2437.2834483\ttest: 2897.5691872\tbest: 2897.5691872 (500)\ttotal: 3.75s\tremaining: 14.9s\n",
            "1000:\tlearn: 1862.5352417\ttest: 2726.2790443\tbest: 2725.7598312 (992)\ttotal: 7.48s\tremaining: 11.2s\n",
            "1500:\tlearn: 1524.5767620\ttest: 2683.1369925\tbest: 2683.1172908 (1498)\ttotal: 11.2s\tremaining: 7.43s\n",
            "2000:\tlearn: 1282.0913878\ttest: 2667.8423964\tbest: 2667.8104179 (1999)\ttotal: 15s\tremaining: 3.73s\n",
            "2499:\tlearn: 1089.4557530\ttest: 2660.1659328\tbest: 2659.3383631 (2477)\ttotal: 18.7s\tremaining: 0us\n",
            "\n",
            "bestTest = 2659.338363\n",
            "bestIteration = 2477\n",
            "\n",
            "Shrink model to first 2478 iterations.\n",
            "| \u001b[95m 2       \u001b[0m | \u001b[95m-2.659e+0\u001b[0m | \u001b[95m 0.3646  \u001b[0m | \u001b[95m 0.2304  \u001b[0m | \u001b[95m 0.02139 \u001b[0m | \u001b[95m 6.984   \u001b[0m | \u001b[95m 0.8616  \u001b[0m |\n",
            "0:\tlearn: 11834.3929388\ttest: 11589.2261612\tbest: 11589.2261612 (0)\ttotal: 43.8ms\tremaining: 1m 49s\n",
            "500:\tlearn: 2452.5645829\ttest: 2957.8645745\tbest: 2957.8645745 (500)\ttotal: 16.5s\tremaining: 1m 5s\n",
            "1000:\tlearn: 1856.3173176\ttest: 2769.9576691\tbest: 2769.9576691 (1000)\ttotal: 32.8s\tremaining: 49.1s\n",
            "1500:\tlearn: 1474.0783073\ttest: 2708.6519685\tbest: 2708.6519685 (1500)\ttotal: 49.1s\tremaining: 32.7s\n",
            "2000:\tlearn: 1203.5504667\ttest: 2685.4509444\tbest: 2685.4509444 (2000)\ttotal: 1m 5s\tremaining: 16.3s\n",
            "2499:\tlearn: 1006.3914076\ttest: 2673.4199037\tbest: 2673.3601606 (2498)\ttotal: 1m 21s\tremaining: 0us\n",
            "\n",
            "bestTest = 2673.360161\n",
            "bestIteration = 2498\n",
            "\n",
            "Shrink model to first 2499 iterations.\n",
            "| \u001b[0m 3       \u001b[0m | \u001b[0m-2.673e+0\u001b[0m | \u001b[0m 0.5934  \u001b[0m | \u001b[0m 0.5797  \u001b[0m | \u001b[0m 0.01306 \u001b[0m | \u001b[0m 9.391   \u001b[0m | \u001b[0m 0.7082  \u001b[0m |\n",
            "0:\tlearn: 11645.8667944\ttest: 11405.8414685\tbest: 11405.8414685 (0)\ttotal: 11ms\tremaining: 27.5s\n",
            "500:\tlearn: 2287.7945813\ttest: 2802.8650530\tbest: 2802.8650530 (500)\ttotal: 4.07s\tremaining: 16.2s\n",
            "1000:\tlearn: 1773.9535981\ttest: 2706.0817798\tbest: 2705.9971042 (999)\ttotal: 8.28s\tremaining: 12.4s\n",
            "1500:\tlearn: 1464.3835559\ttest: 2692.4329936\tbest: 2692.4329936 (1500)\ttotal: 12.5s\tremaining: 8.34s\n",
            "2000:\tlearn: 1234.6155432\ttest: 2681.8276949\tbest: 2680.1441932 (1905)\ttotal: 16.9s\tremaining: 4.21s\n",
            "Stopped by overfitting detector  (500 iterations wait)\n",
            "\n",
            "bestTest = 2680.144193\n",
            "bestIteration = 1905\n",
            "\n",
            "Shrink model to first 1906 iterations.\n",
            "| \u001b[0m 4       \u001b[0m | \u001b[0m-2.68e+03\u001b[0m | \u001b[0m 0.7693  \u001b[0m | \u001b[0m 0.3921  \u001b[0m | \u001b[0m 0.03396 \u001b[0m | \u001b[0m 5.702   \u001b[0m | \u001b[0m 0.7594  \u001b[0m |\n",
            "0:\tlearn: 11777.0131945\ttest: 11532.7691072\tbest: 11532.7691072 (0)\ttotal: 26.9ms\tremaining: 1m 7s\n",
            "500:\tlearn: 2341.2270066\ttest: 2838.9624339\tbest: 2838.9624339 (500)\ttotal: 12.5s\tremaining: 50s\n",
            "1000:\tlearn: 1729.3159063\ttest: 2700.1772121\tbest: 2700.1772121 (1000)\ttotal: 25s\tremaining: 37.5s\n",
            "1500:\tlearn: 1357.2761016\ttest: 2663.7606025\tbest: 2663.6780164 (1499)\ttotal: 37.4s\tremaining: 24.9s\n",
            "2000:\tlearn: 1107.8116169\ttest: 2651.1987668\tbest: 2651.0462417 (1994)\ttotal: 49.6s\tremaining: 12.4s\n",
            "2499:\tlearn: 921.8473337\ttest: 2644.9630036\tbest: 2644.9630036 (2499)\ttotal: 1m 2s\tremaining: 0us\n",
            "\n",
            "bestTest = 2644.963004\n",
            "bestIteration = 2499\n",
            "\n",
            "| \u001b[95m 5       \u001b[0m | \u001b[95m-2.645e+0\u001b[0m | \u001b[95m 0.8605  \u001b[0m | \u001b[95m 0.7778  \u001b[0m | \u001b[95m 0.01949 \u001b[0m | \u001b[95m 8.462   \u001b[0m | \u001b[95m 0.9629  \u001b[0m |\n",
            "0:\tlearn: 11933.4961145\ttest: 11684.7118524\tbest: 11684.7118524 (0)\ttotal: 10.3ms\tremaining: 25.8s\n",
            "500:\tlearn: 4706.7902751\ttest: 4689.3135481\tbest: 4689.3135481 (500)\ttotal: 4.86s\tremaining: 19.4s\n",
            "1000:\tlearn: 3443.6916123\ttest: 3510.4580175\tbest: 3510.4580175 (1000)\ttotal: 9.74s\tremaining: 14.6s\n",
            "1500:\tlearn: 3064.6086849\ttest: 3190.4634637\tbest: 3190.4634637 (1500)\ttotal: 14.6s\tremaining: 9.73s\n",
            "2000:\tlearn: 2872.3870399\ttest: 3057.3162299\tbest: 3057.3162299 (2000)\ttotal: 19.5s\tremaining: 4.87s\n",
            "2499:\tlearn: 2735.5332414\ttest: 2978.0841683\tbest: 2978.0841683 (2499)\ttotal: 24.5s\tremaining: 0us\n",
            "\n",
            "bestTest = 2978.084168\n",
            "bestIteration = 2499\n",
            "\n",
            "| \u001b[0m 6       \u001b[0m | \u001b[0m-2.978e+0\u001b[0m | \u001b[0m 0.9262  \u001b[0m | \u001b[0m 0.1595  \u001b[0m | \u001b[0m 0.003304\u001b[0m | \u001b[0m 5.849   \u001b[0m | \u001b[0m 0.9634  \u001b[0m |\n",
            "0:\tlearn: 11422.7775997\ttest: 11184.5361037\tbest: 11184.5361037 (0)\ttotal: 15.4ms\tremaining: 38.4s\n",
            "500:\tlearn: 1350.7483652\ttest: 2716.2399007\tbest: 2716.2399007 (500)\ttotal: 6.4s\tremaining: 25.6s\n",
            "1000:\tlearn: 754.0578486\ttest: 2704.2586192\tbest: 2701.9375654 (870)\ttotal: 12.9s\tremaining: 19.3s\n",
            "Stopped by overfitting detector  (500 iterations wait)\n",
            "\n",
            "bestTest = 2701.937565\n",
            "bestIteration = 870\n",
            "\n",
            "Shrink model to first 871 iterations.\n",
            "| \u001b[0m 7       \u001b[0m | \u001b[0m-2.702e+0\u001b[0m | \u001b[0m 0.3688  \u001b[0m | \u001b[0m 0.3948  \u001b[0m | \u001b[0m 0.05752 \u001b[0m | \u001b[0m 7.666   \u001b[0m | \u001b[0m 0.9076  \u001b[0m |\n",
            "0:\tlearn: 11491.1146096\ttest: 11247.0991883\tbest: 11247.0991883 (0)\ttotal: 4.74ms\tremaining: 11.8s\n",
            "500:\tlearn: 2296.0836948\ttest: 2796.1800448\tbest: 2795.5955730 (498)\ttotal: 2.38s\tremaining: 9.51s\n",
            "1000:\tlearn: 1819.4139050\ttest: 2724.6888876\tbest: 2723.9575141 (995)\ttotal: 4.76s\tremaining: 7.13s\n",
            "1500:\tlearn: 1515.4011855\ttest: 2707.7726186\tbest: 2707.5301552 (1486)\ttotal: 7.24s\tremaining: 4.82s\n",
            "2000:\tlearn: 1291.6150342\ttest: 2703.9104325\tbest: 2703.1617820 (1836)\ttotal: 9.62s\tremaining: 2.4s\n",
            "2499:\tlearn: 1116.7466473\ttest: 2709.5742048\tbest: 2703.0023730 (2040)\ttotal: 12s\tremaining: 0us\n",
            "\n",
            "bestTest = 2703.002373\n",
            "bestIteration = 2040\n",
            "\n",
            "Shrink model to first 2041 iterations.\n",
            "| \u001b[0m 8       \u001b[0m | \u001b[0m-2.703e+0\u001b[0m | \u001b[0m 0.5209  \u001b[0m | \u001b[0m 0.5806  \u001b[0m | \u001b[0m 0.05024 \u001b[0m | \u001b[0m 5.091   \u001b[0m | \u001b[0m 0.925   \u001b[0m |\n",
            "0:\tlearn: 11793.1920480\ttest: 11550.8117126\tbest: 11550.8117126 (0)\ttotal: 51.5ms\tremaining: 2m 8s\n",
            "500:\tlearn: 2208.3234637\ttest: 2877.0290779\tbest: 2877.0290779 (500)\ttotal: 25.8s\tremaining: 1m 43s\n",
            "1000:\tlearn: 1560.6137775\ttest: 2734.9961170\tbest: 2734.9961170 (1000)\ttotal: 51.7s\tremaining: 1m 17s\n",
            "1500:\tlearn: 1185.0182918\ttest: 2703.0129767\tbest: 2702.8287006 (1490)\ttotal: 1m 17s\tremaining: 51.6s\n",
            "2000:\tlearn: 928.8111957\ttest: 2693.8418426\tbest: 2693.8418426 (2000)\ttotal: 1m 43s\tremaining: 25.7s\n",
            "2499:\tlearn: 744.2838456\ttest: 2688.2546193\tbest: 2687.9976009 (2492)\ttotal: 2m 8s\tremaining: 0us\n",
            "\n",
            "bestTest = 2687.997601\n",
            "bestIteration = 2492\n",
            "\n",
            "Shrink model to first 2493 iterations.\n",
            "| \u001b[0m 9       \u001b[0m | \u001b[0m-2.688e+0\u001b[0m | \u001b[0m 0.9922  \u001b[0m | \u001b[0m 0.6237  \u001b[0m | \u001b[0m 0.01755 \u001b[0m | \u001b[0m 8.946   \u001b[0m | \u001b[0m 0.731   \u001b[0m |\n",
            "0:\tlearn: 11797.9250652\ttest: 11551.8779775\tbest: 11551.8779775 (0)\ttotal: 8.29ms\tremaining: 20.7s\n",
            "500:\tlearn: 2729.4639994\ttest: 2967.3700065\tbest: 2967.3700065 (500)\ttotal: 3.49s\tremaining: 13.9s\n",
            "1000:\tlearn: 2264.9591467\ttest: 2771.9370491\tbest: 2771.8916557 (999)\ttotal: 6.98s\tremaining: 10.5s\n",
            "1500:\tlearn: 1969.6122765\ttest: 2704.2327951\tbest: 2704.2327951 (1500)\ttotal: 10.5s\tremaining: 6.97s\n",
            "2000:\tlearn: 1755.2786298\ttest: 2676.2318450\tbest: 2676.1110850 (1991)\ttotal: 13.9s\tremaining: 3.47s\n",
            "2499:\tlearn: 1584.6284616\ttest: 2661.7366928\tbest: 2661.7366928 (2499)\ttotal: 17.4s\tremaining: 0us\n",
            "\n",
            "bestTest = 2661.736693\n",
            "bestIteration = 2499\n",
            "\n",
            "| \u001b[0m 10      \u001b[0m | \u001b[0m-2.662e+0\u001b[0m | \u001b[0m 0.6135  \u001b[0m | \u001b[0m 0.736   \u001b[0m | \u001b[0m 0.01832 \u001b[0m | \u001b[0m 6.439   \u001b[0m | \u001b[0m 0.739   \u001b[0m |\n",
            "| \u001b[0m 11      \u001b[0m | \u001b[0m-2.662e+0\u001b[0m | \u001b[0m 0.6135  \u001b[0m | \u001b[0m 0.736   \u001b[0m | \u001b[0m 0.01832 \u001b[0m | \u001b[0m 6.439   \u001b[0m | \u001b[0m 0.739   \u001b[0m |\n",
            "0:\tlearn: 11613.9802206\ttest: 11371.2953811\tbest: 11371.2953811 (0)\ttotal: 39.6ms\tremaining: 1m 38s\n",
            "500:\tlearn: 1188.8009107\ttest: 2753.0459826\tbest: 2753.0459826 (500)\ttotal: 17s\tremaining: 1m 7s\n",
            "1000:\tlearn: 574.3908375\ttest: 2717.9341187\tbest: 2717.8407012 (993)\ttotal: 33.9s\tremaining: 50.8s\n",
            "1500:\tlearn: 314.5978114\ttest: 2711.9331682\tbest: 2711.8181098 (1490)\ttotal: 50.7s\tremaining: 33.8s\n",
            "2000:\tlearn: 184.0343773\ttest: 2711.7630806\tbest: 2711.3705453 (1664)\ttotal: 1m 7s\tremaining: 16.9s\n",
            "Stopped by overfitting detector  (500 iterations wait)\n",
            "\n",
            "bestTest = 2711.370545\n",
            "bestIteration = 1664\n",
            "\n",
            "Shrink model to first 1665 iterations.\n",
            "| \u001b[0m 12      \u001b[0m | \u001b[0m-2.711e+0\u001b[0m | \u001b[0m 0.435   \u001b[0m | \u001b[0m 0.1125  \u001b[0m | \u001b[0m 0.03518 \u001b[0m | \u001b[0m 9.967   \u001b[0m | \u001b[0m 0.917   \u001b[0m |\n",
            "0:\tlearn: 11630.9786527\ttest: 11388.6833884\tbest: 11388.6833884 (0)\ttotal: 5.2ms\tremaining: 13s\n",
            "500:\tlearn: 2258.5154802\ttest: 2779.8614773\tbest: 2779.8614773 (500)\ttotal: 2.35s\tremaining: 9.38s\n",
            "1000:\tlearn: 1736.1474372\ttest: 2688.4055061\tbest: 2688.0877528 (998)\ttotal: 4.69s\tremaining: 7.02s\n",
            "1500:\tlearn: 1422.7432550\ttest: 2672.9595906\tbest: 2669.7152123 (1459)\ttotal: 7.07s\tremaining: 4.71s\n",
            "Stopped by overfitting detector  (500 iterations wait)\n",
            "\n",
            "bestTest = 2669.715212\n",
            "bestIteration = 1459\n",
            "\n",
            "Shrink model to first 1460 iterations.\n",
            "| \u001b[0m 13      \u001b[0m | \u001b[0m-2.67e+03\u001b[0m | \u001b[0m 0.3244  \u001b[0m | \u001b[0m 0.3276  \u001b[0m | \u001b[0m 0.03644 \u001b[0m | \u001b[0m 6.186   \u001b[0m | \u001b[0m 0.8438  \u001b[0m |\n",
            "0:\tlearn: 11647.1258267\ttest: 11405.3548007\tbest: 11405.3548007 (0)\ttotal: 27.3ms\tremaining: 1m 8s\n",
            "500:\tlearn: 1611.8859968\ttest: 2723.1026030\tbest: 2723.1026030 (500)\ttotal: 11.7s\tremaining: 46.9s\n",
            "1000:\tlearn: 947.0119455\ttest: 2673.8501210\tbest: 2673.8501210 (1000)\ttotal: 23.3s\tremaining: 34.8s\n",
            "1500:\tlearn: 600.4633437\ttest: 2668.1207568\tbest: 2667.1217777 (1264)\ttotal: 34.9s\tremaining: 23.2s\n",
            "2000:\tlearn: 407.7068355\ttest: 2668.8252543\tbest: 2666.8263593 (1739)\ttotal: 46.5s\tremaining: 11.6s\n",
            "Stopped by overfitting detector  (500 iterations wait)\n",
            "\n",
            "bestTest = 2666.826359\n",
            "bestIteration = 1739\n",
            "\n",
            "Shrink model to first 1740 iterations.\n",
            "| \u001b[0m 14      \u001b[0m | \u001b[0m-2.667e+0\u001b[0m | \u001b[0m 0.3963  \u001b[0m | \u001b[0m 0.4328  \u001b[0m | \u001b[0m 0.03351 \u001b[0m | \u001b[0m 9.157   \u001b[0m | \u001b[0m 0.9637  \u001b[0m |\n",
            "0:\tlearn: 11768.9473768\ttest: 11525.1720917\tbest: 11525.1720917 (0)\ttotal: 12.4ms\tremaining: 31s\n",
            "500:\tlearn: 2463.2099820\ttest: 2887.2745310\tbest: 2887.2745310 (500)\ttotal: 5.82s\tremaining: 23.2s\n",
            "1000:\tlearn: 1904.4229967\ttest: 2723.1926313\tbest: 2723.1926313 (1000)\ttotal: 11.7s\tremaining: 17.6s\n",
            "1500:\tlearn: 1559.3471586\ttest: 2678.6084794\tbest: 2678.4415131 (1492)\ttotal: 17.5s\tremaining: 11.7s\n",
            "2000:\tlearn: 1317.9261312\ttest: 2660.2762016\tbest: 2659.9513237 (1995)\ttotal: 23.3s\tremaining: 5.81s\n",
            "2499:\tlearn: 1132.5638023\ttest: 2655.9823656\tbest: 2655.4976579 (2383)\ttotal: 29s\tremaining: 0us\n",
            "\n",
            "bestTest = 2655.497658\n",
            "bestIteration = 2383\n",
            "\n",
            "Shrink model to first 2384 iterations.\n",
            "| \u001b[0m 15      \u001b[0m | \u001b[0m-2.655e+0\u001b[0m | \u001b[0m 0.6393  \u001b[0m | \u001b[0m 0.2205  \u001b[0m | \u001b[0m 0.01991 \u001b[0m | \u001b[0m 7.402   \u001b[0m | \u001b[0m 0.7957  \u001b[0m |\n",
            "0:\tlearn: 11709.2924302\ttest: 11468.3508389\tbest: 11468.3508389 (0)\ttotal: 19.4ms\tremaining: 48.5s\n",
            "500:\tlearn: 2085.8516940\ttest: 2794.0951597\tbest: 2794.0951597 (500)\ttotal: 9.37s\tremaining: 37.4s\n",
            "1000:\tlearn: 1467.1423374\ttest: 2699.1844255\tbest: 2698.9801841 (999)\ttotal: 18.7s\tremaining: 28s\n",
            "1500:\tlearn: 1109.7390294\ttest: 2677.0034257\tbest: 2676.7641104 (1487)\ttotal: 28.2s\tremaining: 18.7s\n",
            "2000:\tlearn: 869.0103780\ttest: 2670.6351835\tbest: 2670.5649859 (1999)\ttotal: 37.5s\tremaining: 9.34s\n",
            "2499:\tlearn: 694.4479067\ttest: 2669.6141236\tbest: 2667.9275818 (2185)\ttotal: 46.9s\tremaining: 0us\n",
            "\n",
            "bestTest = 2667.927582\n",
            "bestIteration = 2185\n",
            "\n",
            "Shrink model to first 2186 iterations.\n",
            "| \u001b[0m 16      \u001b[0m | \u001b[0m-2.668e+0\u001b[0m | \u001b[0m 0.5991  \u001b[0m | \u001b[0m 0.5741  \u001b[0m | \u001b[0m 0.02594 \u001b[0m | \u001b[0m 7.658   \u001b[0m | \u001b[0m 0.799   \u001b[0m |\n",
            "0:\tlearn: 11604.0533325\ttest: 11362.8874287\tbest: 11362.8874287 (0)\ttotal: 16.9ms\tremaining: 42.4s\n",
            "500:\tlearn: 1808.8808850\ttest: 2734.6104047\tbest: 2734.4358185 (498)\ttotal: 9.15s\tremaining: 36.5s\n",
            "1000:\tlearn: 1177.2121177\ttest: 2675.7630536\tbest: 2675.7630536 (1000)\ttotal: 18.3s\tremaining: 27.4s\n",
            "1500:\tlearn: 827.0429158\ttest: 2669.2465567\tbest: 2668.8172393 (1346)\ttotal: 27.4s\tremaining: 18.2s\n",
            "Stopped by overfitting detector  (500 iterations wait)\n",
            "\n",
            "bestTest = 2668.817239\n",
            "bestIteration = 1346\n",
            "\n",
            "Shrink model to first 1347 iterations.\n",
            "| \u001b[0m 17      \u001b[0m | \u001b[0m-2.669e+0\u001b[0m | \u001b[0m 0.5718  \u001b[0m | \u001b[0m 0.7279  \u001b[0m | \u001b[0m 0.03628 \u001b[0m | \u001b[0m 8.482   \u001b[0m | \u001b[0m 0.9607  \u001b[0m |\n",
            "0:\tlearn: 11857.9081238\ttest: 11609.5033695\tbest: 11609.5033695 (0)\ttotal: 10.7ms\tremaining: 26.8s\n",
            "500:\tlearn: 2875.4585836\ttest: 3093.1249441\tbest: 3093.1249441 (500)\ttotal: 4.49s\tremaining: 17.9s\n",
            "1000:\tlearn: 2403.0880870\ttest: 2853.9035391\tbest: 2853.9035391 (1000)\ttotal: 8.91s\tremaining: 13.4s\n",
            "1500:\tlearn: 2074.1783049\ttest: 2745.2649320\tbest: 2745.2649320 (1500)\ttotal: 13.5s\tremaining: 8.99s\n",
            "2000:\tlearn: 1836.0911253\ttest: 2698.6842706\tbest: 2698.6320004 (1998)\ttotal: 18.1s\tremaining: 4.51s\n",
            "2499:\tlearn: 1643.6212482\ttest: 2672.7729943\tbest: 2672.7729943 (2499)\ttotal: 22.5s\tremaining: 0us\n",
            "\n",
            "bestTest = 2672.772994\n",
            "bestIteration = 2499\n",
            "\n",
            "| \u001b[0m 18      \u001b[0m | \u001b[0m-2.673e+0\u001b[0m | \u001b[0m 0.455   \u001b[0m | \u001b[0m 0.3021  \u001b[0m | \u001b[0m 0.011   \u001b[0m | \u001b[0m 7.109   \u001b[0m | \u001b[0m 0.8763  \u001b[0m |\n",
            "0:\tlearn: 11794.9922214\ttest: 11549.3637935\tbest: 11549.3637935 (0)\ttotal: 8.46ms\tremaining: 21.1s\n",
            "500:\tlearn: 2718.6561893\ttest: 2963.6814872\tbest: 2963.6814872 (500)\ttotal: 3.66s\tremaining: 14.6s\n",
            "1000:\tlearn: 2234.4110811\ttest: 2763.2148520\tbest: 2763.2148520 (1000)\ttotal: 7.28s\tremaining: 10.9s\n",
            "1500:\tlearn: 1935.3079486\ttest: 2706.6071138\tbest: 2706.6071138 (1500)\ttotal: 11s\tremaining: 7.31s\n",
            "2000:\tlearn: 1712.2403612\ttest: 2681.7557096\tbest: 2681.7557096 (2000)\ttotal: 14.6s\tremaining: 3.65s\n",
            "2499:\tlearn: 1537.0702001\ttest: 2668.9733282\tbest: 2668.8096163 (2466)\ttotal: 18.3s\tremaining: 0us\n",
            "\n",
            "bestTest = 2668.809616\n",
            "bestIteration = 2466\n",
            "\n",
            "Shrink model to first 2467 iterations.\n",
            "| \u001b[0m 19      \u001b[0m | \u001b[0m-2.669e+0\u001b[0m | \u001b[0m 0.6483  \u001b[0m | \u001b[0m 0.3978  \u001b[0m | \u001b[0m 0.01835 \u001b[0m | \u001b[0m 5.931   \u001b[0m | \u001b[0m 0.7964  \u001b[0m |\n",
            "0:\tlearn: 11886.6716009\ttest: 11640.6132691\tbest: 11640.6132691 (0)\ttotal: 57.6ms\tremaining: 2m 23s\n",
            "500:\tlearn: 2811.8110090\ttest: 3135.0063662\tbest: 3135.0063662 (500)\ttotal: 22.8s\tremaining: 1m 30s\n",
            "1000:\tlearn: 2254.6059614\ttest: 2859.9972314\tbest: 2859.9972314 (1000)\ttotal: 45.4s\tremaining: 1m 7s\n",
            "1500:\tlearn: 1887.5134059\ttest: 2754.3870516\tbest: 2754.3870516 (1500)\ttotal: 1m 7s\tremaining: 45.1s\n",
            "2000:\tlearn: 1609.0734036\ttest: 2707.7687364\tbest: 2707.7687364 (2000)\ttotal: 1m 30s\tremaining: 22.5s\n",
            "2499:\tlearn: 1403.0024441\ttest: 2684.7919056\tbest: 2684.7919056 (2499)\ttotal: 1m 52s\tremaining: 0us\n",
            "\n",
            "bestTest = 2684.791906\n",
            "bestIteration = 2499\n",
            "\n",
            "| \u001b[0m 20      \u001b[0m | \u001b[0m-2.685e+0\u001b[0m | \u001b[0m 0.8663  \u001b[0m | \u001b[0m 0.5627  \u001b[0m | \u001b[0m 0.008231\u001b[0m | \u001b[0m 9.084   \u001b[0m | \u001b[0m 0.7187  \u001b[0m |\n",
            "0:\tlearn: 11692.4284383\ttest: 11451.8357330\tbest: 11451.8357330 (0)\ttotal: 9.53ms\tremaining: 23.8s\n",
            "500:\tlearn: 2407.8897217\ttest: 2834.1038935\tbest: 2834.1038935 (500)\ttotal: 4.12s\tremaining: 16.5s\n",
            "1000:\tlearn: 1904.7666893\ttest: 2711.5210727\tbest: 2711.4357056 (995)\ttotal: 8.21s\tremaining: 12.3s\n",
            "1500:\tlearn: 1600.2896814\ttest: 2680.1723331\tbest: 2679.7862731 (1496)\ttotal: 12.3s\tremaining: 8.21s\n",
            "2000:\tlearn: 1375.8223202\ttest: 2673.2906330\tbest: 2672.6322182 (1972)\ttotal: 16.5s\tremaining: 4.12s\n",
            "2499:\tlearn: 1200.7795132\ttest: 2669.9898055\tbest: 2669.8763487 (2447)\ttotal: 20.6s\tremaining: 0us\n",
            "\n",
            "bestTest = 2669.876349\n",
            "bestIteration = 2447\n",
            "\n",
            "Shrink model to first 2448 iterations.\n",
            "| \u001b[0m 21      \u001b[0m | \u001b[0m-2.67e+03\u001b[0m | \u001b[0m 0.7966  \u001b[0m | \u001b[0m 0.288   \u001b[0m | \u001b[0m 0.02821 \u001b[0m | \u001b[0m 5.67    \u001b[0m | \u001b[0m 0.7097  \u001b[0m |\n",
            "0:\tlearn: 11907.3885731\ttest: 11657.9844112\tbest: 11657.9844112 (0)\ttotal: 13.8ms\tremaining: 34.4s\n",
            "500:\tlearn: 3367.5749551\ttest: 3508.0053336\tbest: 3508.0053336 (500)\ttotal: 6.79s\tremaining: 27.1s\n",
            "1000:\tlearn: 2707.5897066\ttest: 3032.1638537\tbest: 3032.1638537 (1000)\ttotal: 13.5s\tremaining: 20.2s\n",
            "1500:\tlearn: 2415.7057032\ttest: 2891.3989987\tbest: 2891.3989987 (1500)\ttotal: 20.3s\tremaining: 13.5s\n",
            "2000:\tlearn: 2181.4669592\ttest: 2806.0704675\tbest: 2806.0704675 (2000)\ttotal: 27.2s\tremaining: 6.78s\n",
            "2499:\tlearn: 1987.1679866\ttest: 2752.6801408\tbest: 2752.6801408 (2499)\ttotal: 34s\tremaining: 0us\n",
            "\n",
            "bestTest = 2752.680141\n",
            "bestIteration = 2499\n",
            "\n",
            "| \u001b[0m 22      \u001b[0m | \u001b[0m-2.753e+0\u001b[0m | \u001b[0m 0.4108  \u001b[0m | \u001b[0m 0.609   \u001b[0m | \u001b[0m 0.005921\u001b[0m | \u001b[0m 8.17    \u001b[0m | \u001b[0m 0.8351  \u001b[0m |\n",
            "0:\tlearn: 11777.6501976\ttest: 11533.3869622\tbest: 11533.3869622 (0)\ttotal: 26.2ms\tremaining: 1m 5s\n",
            "500:\tlearn: 2342.6725876\ttest: 2846.4047718\tbest: 2846.4047718 (500)\ttotal: 12.2s\tremaining: 48.9s\n",
            "1000:\tlearn: 1740.0018845\ttest: 2701.0132643\tbest: 2700.9634160 (999)\ttotal: 24.4s\tremaining: 36.6s\n",
            "1500:\tlearn: 1372.6108573\ttest: 2663.3020287\tbest: 2663.3020287 (1500)\ttotal: 36.7s\tremaining: 24.4s\n",
            "2000:\tlearn: 1116.4301203\ttest: 2653.2555898\tbest: 2653.2408082 (1997)\ttotal: 48.8s\tremaining: 12.2s\n",
            "2499:\tlearn: 921.6936087\ttest: 2644.5073175\tbest: 2644.2809035 (2477)\ttotal: 1m\tremaining: 0us\n",
            "\n",
            "bestTest = 2644.280903\n",
            "bestIteration = 2477\n",
            "\n",
            "Shrink model to first 2478 iterations.\n",
            "| \u001b[95m 23      \u001b[0m | \u001b[95m-2.644e+0\u001b[0m | \u001b[95m 0.8603  \u001b[0m | \u001b[95m 0.7779  \u001b[0m | \u001b[95m 0.01943 \u001b[0m | \u001b[95m 8.462   \u001b[0m | \u001b[95m 0.9631  \u001b[0m |\n",
            "0:\tlearn: 11727.9191674\ttest: 11485.0384180\tbest: 11485.0384180 (0)\ttotal: 8.45ms\tremaining: 21.1s\n",
            "500:\tlearn: 2525.1010100\ttest: 2887.3227109\tbest: 2887.3227109 (500)\ttotal: 3.62s\tremaining: 14.4s\n",
            "1000:\tlearn: 2029.3420124\ttest: 2735.6847723\tbest: 2735.6847723 (1000)\ttotal: 7.26s\tremaining: 10.9s\n",
            "1500:\tlearn: 1713.9630293\ttest: 2689.0501683\tbest: 2688.5665483 (1494)\ttotal: 10.9s\tremaining: 7.25s\n",
            "2000:\tlearn: 1487.7641083\ttest: 2672.4662210\tbest: 2672.3245676 (1997)\ttotal: 14.5s\tremaining: 3.62s\n",
            "2499:\tlearn: 1309.8888288\ttest: 2665.8521427\tbest: 2665.5742663 (2490)\ttotal: 18.3s\tremaining: 0us\n",
            "\n",
            "bestTest = 2665.574266\n",
            "bestIteration = 2490\n",
            "\n",
            "Shrink model to first 2491 iterations.\n",
            "| \u001b[0m 24      \u001b[0m | \u001b[0m-2.666e+0\u001b[0m | \u001b[0m 0.6565  \u001b[0m | \u001b[0m 0.4034  \u001b[0m | \u001b[0m 0.0245  \u001b[0m | \u001b[0m 5.928   \u001b[0m | \u001b[0m 0.805   \u001b[0m |\n",
            "0:\tlearn: 11768.6275450\ttest: 11524.8612618\tbest: 11524.8612618 (0)\ttotal: 12.6ms\tremaining: 31.5s\n",
            "500:\tlearn: 2463.7395048\ttest: 2886.5547413\tbest: 2886.5547413 (500)\ttotal: 5.71s\tremaining: 22.8s\n",
            "1000:\tlearn: 1897.8804633\ttest: 2719.2381010\tbest: 2719.2381010 (1000)\ttotal: 11.4s\tremaining: 17.1s\n",
            "1500:\tlearn: 1559.1369114\ttest: 2671.7626691\tbest: 2671.5137846 (1498)\ttotal: 17.1s\tremaining: 11.4s\n",
            "2000:\tlearn: 1316.4779003\ttest: 2653.9095073\tbest: 2653.8082056 (1999)\ttotal: 22.8s\tremaining: 5.7s\n",
            "2499:\tlearn: 1128.6001021\ttest: 2647.7785314\tbest: 2647.4353345 (2444)\ttotal: 28.5s\tremaining: 0us\n",
            "\n",
            "bestTest = 2647.435335\n",
            "bestIteration = 2444\n",
            "\n",
            "Shrink model to first 2445 iterations.\n",
            "| \u001b[0m 25      \u001b[0m | \u001b[0m-2.647e+0\u001b[0m | \u001b[0m 0.6397  \u001b[0m | \u001b[0m 0.2207  \u001b[0m | \u001b[0m 0.01995 \u001b[0m | \u001b[0m 7.401   \u001b[0m | \u001b[0m 0.7957  \u001b[0m |\n",
            "0:\tlearn: 11590.1322943\ttest: 11350.6144485\tbest: 11350.6144485 (0)\ttotal: 8.4ms\tremaining: 21s\n",
            "500:\tlearn: 2210.8999835\ttest: 2773.8536202\tbest: 2773.8536202 (500)\ttotal: 3.72s\tremaining: 14.8s\n",
            "1000:\tlearn: 1682.9928902\ttest: 2689.4979102\tbest: 2689.1704346 (998)\ttotal: 7.41s\tremaining: 11.1s\n",
            "1500:\tlearn: 1354.4009278\ttest: 2674.5110942\tbest: 2674.1687110 (1499)\ttotal: 11.1s\tremaining: 7.38s\n",
            "2000:\tlearn: 1125.9004996\ttest: 2671.0224256\tbest: 2669.8447761 (1636)\ttotal: 14.8s\tremaining: 3.68s\n",
            "Stopped by overfitting detector  (500 iterations wait)\n",
            "\n",
            "bestTest = 2669.844776\n",
            "bestIteration = 1636\n",
            "\n",
            "Shrink model to first 1637 iterations.\n",
            "| \u001b[0m 26      \u001b[0m | \u001b[0m-2.67e+03\u001b[0m | \u001b[0m 0.661   \u001b[0m | \u001b[0m 0.4064  \u001b[0m | \u001b[0m 0.03875 \u001b[0m | \u001b[0m 5.942   \u001b[0m | \u001b[0m 0.7964  \u001b[0m |\n",
            "0:\tlearn: 11674.2603890\ttest: 11431.8863627\tbest: 11431.8863627 (0)\ttotal: 8.49ms\tremaining: 21.2s\n",
            "500:\tlearn: 2356.6192655\ttest: 2813.7684737\tbest: 2813.7684737 (500)\ttotal: 3.69s\tremaining: 14.7s\n",
            "1000:\tlearn: 1845.5250238\ttest: 2695.0362861\tbest: 2695.0362861 (1000)\ttotal: 7.36s\tremaining: 11s\n",
            "1500:\tlearn: 1531.1227294\ttest: 2653.5164062\tbest: 2653.1606895 (1498)\ttotal: 11.2s\tremaining: 7.42s\n",
            "2000:\tlearn: 1303.3438813\ttest: 2640.7639220\tbest: 2640.7639220 (2000)\ttotal: 14.9s\tremaining: 3.71s\n",
            "2499:\tlearn: 1129.5908157\ttest: 2638.1763151\tbest: 2637.9234361 (2282)\ttotal: 18.6s\tremaining: 0us\n",
            "\n",
            "bestTest = 2637.923436\n",
            "bestIteration = 2282\n",
            "\n",
            "Shrink model to first 2283 iterations.\n",
            "| \u001b[95m 27      \u001b[0m | \u001b[95m-2.638e+0\u001b[0m | \u001b[95m 0.6764  \u001b[0m | \u001b[95m 0.3924  \u001b[0m | \u001b[95m 0.03078 \u001b[0m | \u001b[95m 5.941   \u001b[0m | \u001b[95m 0.7966  \u001b[0m |\n",
            "0:\tlearn: 11668.2452415\ttest: 11425.7085772\tbest: 11425.7085772 (0)\ttotal: 16.6ms\tremaining: 41.5s\n",
            "500:\tlearn: 1988.3136031\ttest: 2747.9767695\tbest: 2747.6735026 (499)\ttotal: 9.11s\tremaining: 36.3s\n",
            "1000:\tlearn: 1348.9488541\ttest: 2666.6644508\tbest: 2666.4442765 (996)\ttotal: 18.3s\tremaining: 27.4s\n",
            "1500:\tlearn: 989.2801421\ttest: 2654.7856930\tbest: 2653.2238484 (1389)\ttotal: 27.4s\tremaining: 18.2s\n",
            "2000:\tlearn: 751.8844145\ttest: 2650.3679024\tbest: 2650.1914994 (1938)\ttotal: 36.5s\tremaining: 9.1s\n",
            "2499:\tlearn: 584.8324326\ttest: 2650.1248216\tbest: 2648.7702832 (2414)\ttotal: 45.5s\tremaining: 0us\n",
            "\n",
            "bestTest = 2648.770283\n",
            "bestIteration = 2414\n",
            "\n",
            "Shrink model to first 2415 iterations.\n",
            "| \u001b[0m 28      \u001b[0m | \u001b[0m-2.649e+0\u001b[0m | \u001b[0m 0.5775  \u001b[0m | \u001b[0m 0.7219  \u001b[0m | \u001b[0m 0.02983 \u001b[0m | \u001b[0m 8.47    \u001b[0m | \u001b[0m 0.9595  \u001b[0m |\n",
            "0:\tlearn: 11636.0345941\ttest: 11391.3556629\tbest: 11391.3556629 (0)\ttotal: 27.2ms\tremaining: 1m 7s\n",
            "500:\tlearn: 1597.9800756\ttest: 2743.7520760\tbest: 2743.7520760 (500)\ttotal: 11.4s\tremaining: 45.3s\n",
            "1000:\tlearn: 927.4958251\ttest: 2686.0479609\tbest: 2685.9875294 (978)\ttotal: 22.6s\tremaining: 33.8s\n",
            "1500:\tlearn: 594.6350170\ttest: 2676.3770730\tbest: 2676.3770730 (1500)\ttotal: 34s\tremaining: 22.7s\n",
            "2000:\tlearn: 403.1791514\ttest: 2676.8751589\tbest: 2675.5640446 (1736)\ttotal: 45.3s\tremaining: 11.3s\n",
            "Stopped by overfitting detector  (500 iterations wait)\n",
            "\n",
            "bestTest = 2675.564045\n",
            "bestIteration = 1736\n",
            "\n",
            "Shrink model to first 1737 iterations.\n",
            "| \u001b[0m 29      \u001b[0m | \u001b[0m-2.676e+0\u001b[0m | \u001b[0m 0.3896  \u001b[0m | \u001b[0m 0.4263  \u001b[0m | \u001b[0m 0.03379 \u001b[0m | \u001b[0m 9.166   \u001b[0m | \u001b[0m 0.9745  \u001b[0m |\n",
            "0:\tlearn: 11598.5325851\ttest: 11354.2917083\tbest: 11354.2917083 (0)\ttotal: 26.9ms\tremaining: 1m 7s\n",
            "500:\tlearn: 1485.8455827\ttest: 2719.4957979\tbest: 2719.4957979 (500)\ttotal: 11.2s\tremaining: 44.7s\n",
            "1000:\tlearn: 837.7279495\ttest: 2684.2006553\tbest: 2683.9956936 (997)\ttotal: 22.4s\tremaining: 33.5s\n",
            "1500:\tlearn: 518.5631261\ttest: 2683.1594505\tbest: 2681.8774630 (1320)\ttotal: 33.6s\tremaining: 22.4s\n",
            "2000:\tlearn: 339.2000959\ttest: 2682.0148204\tbest: 2680.9316267 (1752)\ttotal: 44.9s\tremaining: 11.2s\n",
            "Stopped by overfitting detector  (500 iterations wait)\n",
            "\n",
            "bestTest = 2680.931627\n",
            "bestIteration = 1752\n",
            "\n",
            "Shrink model to first 1753 iterations.\n",
            "| \u001b[0m 30      \u001b[0m | \u001b[0m-2.681e+0\u001b[0m | \u001b[0m 0.3892  \u001b[0m | \u001b[0m 0.4228  \u001b[0m | \u001b[0m 0.03765 \u001b[0m | \u001b[0m 9.182   \u001b[0m | \u001b[0m 0.9788  \u001b[0m |\n",
            "0:\tlearn: 11521.5567344\ttest: 11278.3131967\tbest: 11278.3131967 (0)\ttotal: 27.1ms\tremaining: 1m 7s\n",
            "500:\tlearn: 1300.1443609\ttest: 2733.0478557\tbest: 2733.0478557 (500)\ttotal: 11.5s\tremaining: 45.8s\n",
            "1000:\tlearn: 669.3401258\ttest: 2708.1793160\tbest: 2707.7458519 (996)\ttotal: 22.9s\tremaining: 34.3s\n",
            "1500:\tlearn: 392.7313726\ttest: 2706.4924786\tbest: 2705.0480391 (1137)\ttotal: 34.3s\tremaining: 22.8s\n",
            "Stopped by overfitting detector  (500 iterations wait)\n",
            "\n",
            "bestTest = 2705.048039\n",
            "bestIteration = 1137\n",
            "\n",
            "Shrink model to first 1138 iterations.\n",
            "| \u001b[0m 31      \u001b[0m | \u001b[0m-2.705e+0\u001b[0m | \u001b[0m 0.3974  \u001b[0m | \u001b[0m 0.4241  \u001b[0m | \u001b[0m 0.04557 \u001b[0m | \u001b[0m 9.163   \u001b[0m | \u001b[0m 0.97    \u001b[0m |\n",
            "0:\tlearn: 11697.4973052\ttest: 11452.6441136\tbest: 11452.6441136 (0)\ttotal: 7.85ms\tremaining: 19.6s\n",
            "500:\tlearn: 2405.7833826\ttest: 2830.6670353\tbest: 2830.6670353 (500)\ttotal: 3.49s\tremaining: 13.9s\n",
            "1000:\tlearn: 1922.0981543\ttest: 2715.1081453\tbest: 2715.0029424 (996)\ttotal: 6.94s\tremaining: 10.4s\n",
            "1500:\tlearn: 1617.3872190\ttest: 2677.1349015\tbest: 2676.8938350 (1497)\ttotal: 10.5s\tremaining: 6.99s\n",
            "2000:\tlearn: 1394.8067179\ttest: 2666.5099411\tbest: 2665.8721723 (1861)\ttotal: 14s\tremaining: 3.48s\n",
            "2499:\tlearn: 1219.7309101\ttest: 2666.3614284\tbest: 2663.8213535 (2233)\ttotal: 17.4s\tremaining: 0us\n",
            "\n",
            "bestTest = 2663.821354\n",
            "bestIteration = 2233\n",
            "\n",
            "Shrink model to first 2234 iterations.\n",
            "| \u001b[0m 32      \u001b[0m | \u001b[0m-2.664e+0\u001b[0m | \u001b[0m 0.61    \u001b[0m | \u001b[0m 0.7515  \u001b[0m | \u001b[0m 0.02956 \u001b[0m | \u001b[0m 6.434   \u001b[0m | \u001b[0m 0.7303  \u001b[0m |\n",
            "0:\tlearn: 11789.6681925\ttest: 11546.9193918\tbest: 11546.9193918 (0)\ttotal: 52.8ms\tremaining: 2m 11s\n",
            "500:\tlearn: 2138.9751613\ttest: 2854.0965561\tbest: 2854.0965561 (500)\ttotal: 25s\tremaining: 1m 39s\n",
            "1000:\tlearn: 1485.8732033\ttest: 2714.1234545\tbest: 2714.1234545 (1000)\ttotal: 49.9s\tremaining: 1m 14s\n",
            "1500:\tlearn: 1112.0424473\ttest: 2684.4486293\tbest: 2684.3793249 (1495)\ttotal: 1m 15s\tremaining: 50s\n",
            "2000:\tlearn: 861.1908800\ttest: 2672.1986774\tbest: 2671.8612367 (1992)\ttotal: 1m 40s\tremaining: 25s\n",
            "2499:\tlearn: 685.3079697\ttest: 2667.3694367\tbest: 2667.1289592 (2480)\ttotal: 2m 4s\tremaining: 0us\n",
            "\n",
            "bestTest = 2667.128959\n",
            "bestIteration = 2480\n",
            "\n",
            "Shrink model to first 2481 iterations.\n",
            "| \u001b[0m 33      \u001b[0m | \u001b[0m-2.667e+0\u001b[0m | \u001b[0m 0.9906  \u001b[0m | \u001b[0m 0.6242  \u001b[0m | \u001b[0m 0.01917 \u001b[0m | \u001b[0m 8.933   \u001b[0m | \u001b[0m 0.7465  \u001b[0m |\n",
            "0:\tlearn: 11814.9245687\ttest: 11570.2054080\tbest: 11570.2054080 (0)\ttotal: 12.4ms\tremaining: 31.1s\n",
            "500:\tlearn: 2647.9008692\ttest: 2944.1051697\tbest: 2944.1051697 (500)\ttotal: 5.55s\tremaining: 22.2s\n",
            "1000:\tlearn: 2117.4542472\ttest: 2746.2618231\tbest: 2746.2618231 (1000)\ttotal: 11.1s\tremaining: 16.6s\n",
            "1500:\tlearn: 1785.7403731\ttest: 2685.0691344\tbest: 2685.0691344 (1500)\ttotal: 16.6s\tremaining: 11s\n",
            "2000:\tlearn: 1541.0504489\ttest: 2657.7384177\tbest: 2657.6637706 (1998)\ttotal: 22.1s\tremaining: 5.51s\n",
            "2499:\tlearn: 1352.5402758\ttest: 2646.5170533\tbest: 2646.2370389 (2495)\ttotal: 27.6s\tremaining: 0us\n",
            "\n",
            "bestTest = 2646.237039\n",
            "bestIteration = 2495\n",
            "\n",
            "Shrink model to first 2496 iterations.\n",
            "| \u001b[0m 34      \u001b[0m | \u001b[0m-2.646e+0\u001b[0m | \u001b[0m 0.6218  \u001b[0m | \u001b[0m 0.22    \u001b[0m | \u001b[0m 0.01541 \u001b[0m | \u001b[0m 7.399   \u001b[0m | \u001b[0m 0.81    \u001b[0m |\n",
            "0:\tlearn: 11710.9265460\ttest: 11463.7320505\tbest: 11463.7320505 (0)\ttotal: 9.12ms\tremaining: 22.8s\n",
            "500:\tlearn: 2255.5280785\ttest: 2787.3676596\tbest: 2787.3676596 (500)\ttotal: 3.62s\tremaining: 14.4s\n",
            "1000:\tlearn: 1683.1157292\ttest: 2673.7262808\tbest: 2673.2757215 (998)\ttotal: 7.11s\tremaining: 10.6s\n",
            "1500:\tlearn: 1328.0779172\ttest: 2653.1185432\tbest: 2653.1185432 (1500)\ttotal: 10.6s\tremaining: 7.07s\n",
            "2000:\tlearn: 1087.9701367\ttest: 2642.2127436\tbest: 2642.1884605 (1985)\ttotal: 14.2s\tremaining: 3.54s\n",
            "2499:\tlearn: 903.4579136\ttest: 2639.5508828\tbest: 2639.1695709 (2420)\ttotal: 17.9s\tremaining: 0us\n",
            "\n",
            "bestTest = 2639.169571\n",
            "bestIteration = 2420\n",
            "\n",
            "Shrink model to first 2421 iterations.\n",
            "| \u001b[0m 35      \u001b[0m | \u001b[0m-2.639e+0\u001b[0m | \u001b[0m 0.3609  \u001b[0m | \u001b[0m 0.2281  \u001b[0m | \u001b[0m 0.02683 \u001b[0m | \u001b[0m 6.995   \u001b[0m | \u001b[0m 0.8544  \u001b[0m |\n",
            "0:\tlearn: 11728.1413760\ttest: 11486.0926025\tbest: 11486.0926025 (0)\ttotal: 44.7ms\tremaining: 1m 51s\n",
            "500:\tlearn: 1874.8298892\ttest: 2746.7723127\tbest: 2746.7723127 (500)\ttotal: 22.1s\tremaining: 1m 28s\n",
            "1000:\tlearn: 1219.5403285\ttest: 2667.2581234\tbest: 2667.2262593 (998)\ttotal: 44s\tremaining: 1m 5s\n",
            "1500:\tlearn: 862.4754197\ttest: 2651.1053599\tbest: 2650.4884136 (1485)\ttotal: 1m 5s\tremaining: 43.8s\n",
            "2000:\tlearn: 633.6966363\ttest: 2646.2895703\tbest: 2646.0512123 (1925)\ttotal: 1m 27s\tremaining: 21.8s\n",
            "2499:\tlearn: 480.5400353\ttest: 2644.0661587\tbest: 2643.8821007 (2257)\ttotal: 1m 49s\tremaining: 0us\n",
            "\n",
            "bestTest = 2643.882101\n",
            "bestIteration = 2257\n",
            "\n",
            "Shrink model to first 2258 iterations.\n",
            "| \u001b[0m 36      \u001b[0m | \u001b[0m-2.644e+0\u001b[0m | \u001b[0m 0.8604  \u001b[0m | \u001b[0m 0.5638  \u001b[0m | \u001b[0m 0.0255  \u001b[0m | \u001b[0m 9.074   \u001b[0m | \u001b[0m 0.7204  \u001b[0m |\n",
            "0:\tlearn: 11822.4770329\ttest: 11577.3171728\tbest: 11577.3171728 (0)\ttotal: 9.7ms\tremaining: 24.2s\n",
            "500:\tlearn: 2794.3186340\ttest: 3008.6239829\tbest: 3008.6239829 (500)\ttotal: 4.16s\tremaining: 16.6s\n",
            "1000:\tlearn: 2323.5224129\ttest: 2794.2660626\tbest: 2794.2660626 (1000)\ttotal: 8.41s\tremaining: 12.6s\n",
            "1500:\tlearn: 2024.4862270\ttest: 2720.4069013\tbest: 2720.4069013 (1500)\ttotal: 12.5s\tremaining: 8.31s\n",
            "2000:\tlearn: 1798.4365522\ttest: 2687.5725453\tbest: 2687.3698672 (1998)\ttotal: 16.5s\tremaining: 4.11s\n",
            "2499:\tlearn: 1627.4897788\ttest: 2670.9895152\tbest: 2670.8268253 (2497)\ttotal: 20.5s\tremaining: 0us\n",
            "\n",
            "bestTest = 2670.826825\n",
            "bestIteration = 2497\n",
            "\n",
            "Shrink model to first 2498 iterations.\n",
            "| \u001b[0m 37      \u001b[0m | \u001b[0m-2.671e+0\u001b[0m | \u001b[0m 0.7681  \u001b[0m | \u001b[0m 0.1647  \u001b[0m | \u001b[0m 0.01517 \u001b[0m | \u001b[0m 5.595   \u001b[0m | \u001b[0m 0.9517  \u001b[0m |\n",
            "0:\tlearn: 11706.2230085\ttest: 11460.7008383\tbest: 11460.7008383 (0)\ttotal: 7.7ms\tremaining: 19.2s\n",
            "500:\tlearn: 2485.5291009\ttest: 2861.5913230\tbest: 2861.5913230 (500)\ttotal: 3.39s\tremaining: 13.5s\n",
            "1000:\tlearn: 1997.0356742\ttest: 2717.4536029\tbest: 2717.4536029 (1000)\ttotal: 6.74s\tremaining: 10.1s\n",
            "1500:\tlearn: 1687.3290087\ttest: 2671.8870570\tbest: 2671.0676396 (1482)\ttotal: 10.1s\tremaining: 6.71s\n",
            "2000:\tlearn: 1459.9800952\ttest: 2660.7654444\tbest: 2660.7035049 (1995)\ttotal: 13.4s\tremaining: 3.35s\n",
            "2499:\tlearn: 1287.4349978\ttest: 2655.9533864\tbest: 2654.8131335 (2269)\ttotal: 16.8s\tremaining: 0us\n",
            "\n",
            "bestTest = 2654.813133\n",
            "bestIteration = 2269\n",
            "\n",
            "Shrink model to first 2270 iterations.\n",
            "| \u001b[0m 38      \u001b[0m | \u001b[0m-2.655e+0\u001b[0m | \u001b[0m 0.6177  \u001b[0m | \u001b[0m 0.7333  \u001b[0m | \u001b[0m 0.02677 \u001b[0m | \u001b[0m 6.443   \u001b[0m | \u001b[0m 0.7515  \u001b[0m |\n",
            "0:\tlearn: 11911.0022362\ttest: 11662.9223029\tbest: 11662.9223029 (0)\ttotal: 31.7ms\tremaining: 1m 19s\n"
          ],
          "name": "stdout"
        },
        {
          "output_type": "error",
          "ename": "KeyboardInterrupt",
          "evalue": "ignored",
          "traceback": [
            "\u001b[0;31m---------------------------------------------------------------------------\u001b[0m",
            "\u001b[0;31mKeyError\u001b[0m                                  Traceback (most recent call last)",
            "\u001b[0;32m/usr/local/lib/python3.6/dist-packages/bayes_opt/target_space.py\u001b[0m in \u001b[0;36mprobe\u001b[0;34m(self, params)\u001b[0m\n\u001b[1;32m    190\u001b[0m         \u001b[0;32mtry\u001b[0m\u001b[0;34m:\u001b[0m\u001b[0;34m\u001b[0m\u001b[0;34m\u001b[0m\u001b[0m\n\u001b[0;32m--> 191\u001b[0;31m             \u001b[0mtarget\u001b[0m \u001b[0;34m=\u001b[0m \u001b[0mself\u001b[0m\u001b[0;34m.\u001b[0m\u001b[0m_cache\u001b[0m\u001b[0;34m[\u001b[0m\u001b[0m_hashable\u001b[0m\u001b[0;34m(\u001b[0m\u001b[0mx\u001b[0m\u001b[0;34m)\u001b[0m\u001b[0;34m]\u001b[0m\u001b[0;34m\u001b[0m\u001b[0;34m\u001b[0m\u001b[0m\n\u001b[0m\u001b[1;32m    192\u001b[0m         \u001b[0;32mexcept\u001b[0m \u001b[0mKeyError\u001b[0m\u001b[0;34m:\u001b[0m\u001b[0;34m\u001b[0m\u001b[0;34m\u001b[0m\u001b[0m\n",
            "\u001b[0;31mKeyError\u001b[0m: (0.6056886276447075, 0.5873548275098275, 0.00548570108881083, 9.394201749219208, 0.7055579502324504)",
            "\nDuring handling of the above exception, another exception occurred:\n",
            "\u001b[0;31mKeyboardInterrupt\u001b[0m                         Traceback (most recent call last)",
            "\u001b[0;32m<ipython-input-20-43e9f73cdfa4>\u001b[0m in \u001b[0;36m<module>\u001b[0;34m()\u001b[0m\n\u001b[1;32m     20\u001b[0m     \u001b[0mrandom_state\u001b[0m\u001b[0;34m=\u001b[0m\u001b[0;36m1\u001b[0m\u001b[0;34m,\u001b[0m\u001b[0;34m\u001b[0m\u001b[0;34m\u001b[0m\u001b[0m\n\u001b[1;32m     21\u001b[0m )\n\u001b[0;32m---> 22\u001b[0;31m \u001b[0moptimizer\u001b[0m\u001b[0;34m.\u001b[0m\u001b[0mmaximize\u001b[0m\u001b[0;34m(\u001b[0m\u001b[0minit_points\u001b[0m\u001b[0;34m=\u001b[0m\u001b[0;36m10\u001b[0m\u001b[0;34m,\u001b[0m \u001b[0mn_iter\u001b[0m\u001b[0;34m=\u001b[0m\u001b[0;36m55\u001b[0m\u001b[0;34m)\u001b[0m\u001b[0;34m\u001b[0m\u001b[0;34m\u001b[0m\u001b[0m\n\u001b[0m",
            "\u001b[0;32m/usr/local/lib/python3.6/dist-packages/bayes_opt/bayesian_optimization.py\u001b[0m in \u001b[0;36mmaximize\u001b[0;34m(self, init_points, n_iter, acq, kappa, xi, **gp_params)\u001b[0m\n\u001b[1;32m    172\u001b[0m                 \u001b[0miteration\u001b[0m \u001b[0;34m+=\u001b[0m \u001b[0;36m1\u001b[0m\u001b[0;34m\u001b[0m\u001b[0;34m\u001b[0m\u001b[0m\n\u001b[1;32m    173\u001b[0m \u001b[0;34m\u001b[0m\u001b[0m\n\u001b[0;32m--> 174\u001b[0;31m             \u001b[0mself\u001b[0m\u001b[0;34m.\u001b[0m\u001b[0mprobe\u001b[0m\u001b[0;34m(\u001b[0m\u001b[0mx_probe\u001b[0m\u001b[0;34m,\u001b[0m \u001b[0mlazy\u001b[0m\u001b[0;34m=\u001b[0m\u001b[0;32mFalse\u001b[0m\u001b[0;34m)\u001b[0m\u001b[0;34m\u001b[0m\u001b[0;34m\u001b[0m\u001b[0m\n\u001b[0m\u001b[1;32m    175\u001b[0m \u001b[0;34m\u001b[0m\u001b[0m\n\u001b[1;32m    176\u001b[0m         \u001b[0mself\u001b[0m\u001b[0;34m.\u001b[0m\u001b[0mdispatch\u001b[0m\u001b[0;34m(\u001b[0m\u001b[0mEvents\u001b[0m\u001b[0;34m.\u001b[0m\u001b[0mOPTMIZATION_END\u001b[0m\u001b[0;34m)\u001b[0m\u001b[0;34m\u001b[0m\u001b[0;34m\u001b[0m\u001b[0m\n",
            "\u001b[0;32m/usr/local/lib/python3.6/dist-packages/bayes_opt/bayesian_optimization.py\u001b[0m in \u001b[0;36mprobe\u001b[0;34m(self, params, lazy)\u001b[0m\n\u001b[1;32m    110\u001b[0m             \u001b[0mself\u001b[0m\u001b[0;34m.\u001b[0m\u001b[0m_queue\u001b[0m\u001b[0;34m.\u001b[0m\u001b[0madd\u001b[0m\u001b[0;34m(\u001b[0m\u001b[0mparams\u001b[0m\u001b[0;34m)\u001b[0m\u001b[0;34m\u001b[0m\u001b[0;34m\u001b[0m\u001b[0m\n\u001b[1;32m    111\u001b[0m         \u001b[0;32melse\u001b[0m\u001b[0;34m:\u001b[0m\u001b[0;34m\u001b[0m\u001b[0;34m\u001b[0m\u001b[0m\n\u001b[0;32m--> 112\u001b[0;31m             \u001b[0mself\u001b[0m\u001b[0;34m.\u001b[0m\u001b[0m_space\u001b[0m\u001b[0;34m.\u001b[0m\u001b[0mprobe\u001b[0m\u001b[0;34m(\u001b[0m\u001b[0mparams\u001b[0m\u001b[0;34m)\u001b[0m\u001b[0;34m\u001b[0m\u001b[0;34m\u001b[0m\u001b[0m\n\u001b[0m\u001b[1;32m    113\u001b[0m             \u001b[0mself\u001b[0m\u001b[0;34m.\u001b[0m\u001b[0mdispatch\u001b[0m\u001b[0;34m(\u001b[0m\u001b[0mEvents\u001b[0m\u001b[0;34m.\u001b[0m\u001b[0mOPTMIZATION_STEP\u001b[0m\u001b[0;34m)\u001b[0m\u001b[0;34m\u001b[0m\u001b[0;34m\u001b[0m\u001b[0m\n\u001b[1;32m    114\u001b[0m \u001b[0;34m\u001b[0m\u001b[0m\n",
            "\u001b[0;32m/usr/local/lib/python3.6/dist-packages/bayes_opt/target_space.py\u001b[0m in \u001b[0;36mprobe\u001b[0;34m(self, params)\u001b[0m\n\u001b[1;32m    192\u001b[0m         \u001b[0;32mexcept\u001b[0m \u001b[0mKeyError\u001b[0m\u001b[0;34m:\u001b[0m\u001b[0;34m\u001b[0m\u001b[0;34m\u001b[0m\u001b[0m\n\u001b[1;32m    193\u001b[0m             \u001b[0mparams\u001b[0m \u001b[0;34m=\u001b[0m \u001b[0mdict\u001b[0m\u001b[0;34m(\u001b[0m\u001b[0mzip\u001b[0m\u001b[0;34m(\u001b[0m\u001b[0mself\u001b[0m\u001b[0;34m.\u001b[0m\u001b[0m_keys\u001b[0m\u001b[0;34m,\u001b[0m \u001b[0mx\u001b[0m\u001b[0;34m)\u001b[0m\u001b[0;34m)\u001b[0m\u001b[0;34m\u001b[0m\u001b[0;34m\u001b[0m\u001b[0m\n\u001b[0;32m--> 194\u001b[0;31m             \u001b[0mtarget\u001b[0m \u001b[0;34m=\u001b[0m \u001b[0mself\u001b[0m\u001b[0;34m.\u001b[0m\u001b[0mtarget_func\u001b[0m\u001b[0;34m(\u001b[0m\u001b[0;34m**\u001b[0m\u001b[0mparams\u001b[0m\u001b[0;34m)\u001b[0m\u001b[0;34m\u001b[0m\u001b[0;34m\u001b[0m\u001b[0m\n\u001b[0m\u001b[1;32m    195\u001b[0m             \u001b[0mself\u001b[0m\u001b[0;34m.\u001b[0m\u001b[0mregister\u001b[0m\u001b[0;34m(\u001b[0m\u001b[0mx\u001b[0m\u001b[0;34m,\u001b[0m \u001b[0mtarget\u001b[0m\u001b[0;34m)\u001b[0m\u001b[0;34m\u001b[0m\u001b[0;34m\u001b[0m\u001b[0m\n\u001b[1;32m    196\u001b[0m         \u001b[0;32mreturn\u001b[0m \u001b[0mtarget\u001b[0m\u001b[0;34m\u001b[0m\u001b[0;34m\u001b[0m\u001b[0m\n",
            "\u001b[0;32m<ipython-input-20-43e9f73cdfa4>\u001b[0m in \u001b[0;36mtraincat\u001b[0;34m(learning_rate, max_depth, l2_leaf_reg, colsample_bylevel, subsample)\u001b[0m\n\u001b[1;32m      2\u001b[0m     \u001b[0mcat\u001b[0m \u001b[0;34m=\u001b[0m  \u001b[0mCatBoostRegressor\u001b[0m\u001b[0;34m(\u001b[0m\u001b[0mrandom_state\u001b[0m\u001b[0;34m=\u001b[0m\u001b[0;36m42\u001b[0m\u001b[0;34m,\u001b[0m\u001b[0mlearning_rate\u001b[0m\u001b[0;34m=\u001b[0m\u001b[0mlearning_rate\u001b[0m\u001b[0;34m,\u001b[0m\u001b[0msubsample\u001b[0m \u001b[0;34m=\u001b[0m \u001b[0msubsample\u001b[0m\u001b[0;34m,\u001b[0m\u001b[0miterations\u001b[0m\u001b[0;34m=\u001b[0m\u001b[0;36m2500\u001b[0m\u001b[0;34m,\u001b[0m\u001b[0mmax_depth\u001b[0m\u001b[0;34m=\u001b[0m\u001b[0mint\u001b[0m\u001b[0;34m(\u001b[0m\u001b[0mround\u001b[0m\u001b[0;34m(\u001b[0m\u001b[0mmax_depth\u001b[0m\u001b[0;34m)\u001b[0m\u001b[0;34m)\u001b[0m\u001b[0;34m,\u001b[0m\u001b[0ml2_leaf_reg\u001b[0m \u001b[0;34m=\u001b[0m\u001b[0ml2_leaf_reg\u001b[0m\u001b[0;34m,\u001b[0m\u001b[0mcolsample_bylevel\u001b[0m\u001b[0;34m=\u001b[0m\u001b[0mcolsample_bylevel\u001b[0m\u001b[0;34m,\u001b[0m\u001b[0meval_metric\u001b[0m\u001b[0;34m=\u001b[0m\u001b[0;34m\"MAE\"\u001b[0m\u001b[0;34m,\u001b[0m\u001b[0mearly_stopping_rounds\u001b[0m\u001b[0;34m=\u001b[0m\u001b[0;36m500\u001b[0m\u001b[0;34m)\u001b[0m\u001b[0;34m\u001b[0m\u001b[0;34m\u001b[0m\u001b[0m\n\u001b[1;32m      3\u001b[0m     \u001b[0mvalset\u001b[0m \u001b[0;34m=\u001b[0m \u001b[0mPool\u001b[0m\u001b[0;34m(\u001b[0m\u001b[0mxp\u001b[0m\u001b[0;34m,\u001b[0m\u001b[0myp\u001b[0m\u001b[0;34m)\u001b[0m\u001b[0;34m\u001b[0m\u001b[0;34m\u001b[0m\u001b[0m\n\u001b[0;32m----> 4\u001b[0;31m     \u001b[0mcat\u001b[0m\u001b[0;34m.\u001b[0m\u001b[0mfit\u001b[0m\u001b[0;34m(\u001b[0m\u001b[0mxt\u001b[0m\u001b[0;34m,\u001b[0m\u001b[0myt\u001b[0m\u001b[0;34m,\u001b[0m\u001b[0meval_set\u001b[0m\u001b[0;34m=\u001b[0m\u001b[0mvalset\u001b[0m\u001b[0;34m,\u001b[0m\u001b[0mverbose\u001b[0m\u001b[0;34m=\u001b[0m\u001b[0;36m500\u001b[0m\u001b[0;34m)\u001b[0m\u001b[0;34m\u001b[0m\u001b[0;34m\u001b[0m\u001b[0m\n\u001b[0m\u001b[1;32m      5\u001b[0m     \u001b[0;32mreturn\u001b[0m \u001b[0;34m-\u001b[0m\u001b[0mcat\u001b[0m\u001b[0;34m.\u001b[0m\u001b[0mbest_score_\u001b[0m\u001b[0;34m[\u001b[0m\u001b[0;34m\"validation\"\u001b[0m\u001b[0;34m]\u001b[0m\u001b[0;34m[\u001b[0m\u001b[0;34m\"MAE\"\u001b[0m\u001b[0;34m]\u001b[0m\u001b[0;34m\u001b[0m\u001b[0;34m\u001b[0m\u001b[0m\n\u001b[1;32m      6\u001b[0m \u001b[0;34m\u001b[0m\u001b[0m\n",
            "\u001b[0;32m/usr/local/lib/python3.6/dist-packages/catboost/core.py\u001b[0m in \u001b[0;36mfit\u001b[0;34m(self, X, y, cat_features, sample_weight, baseline, use_best_model, eval_set, verbose, logging_level, plot, column_description, verbose_eval, metric_period, silent, early_stopping_rounds, save_snapshot, snapshot_file, snapshot_interval, init_model)\u001b[0m\n\u001b[1;32m   4382\u001b[0m                          \u001b[0muse_best_model\u001b[0m\u001b[0;34m,\u001b[0m \u001b[0meval_set\u001b[0m\u001b[0;34m,\u001b[0m \u001b[0mverbose\u001b[0m\u001b[0;34m,\u001b[0m \u001b[0mlogging_level\u001b[0m\u001b[0;34m,\u001b[0m \u001b[0mplot\u001b[0m\u001b[0;34m,\u001b[0m \u001b[0mcolumn_description\u001b[0m\u001b[0;34m,\u001b[0m\u001b[0;34m\u001b[0m\u001b[0;34m\u001b[0m\u001b[0m\n\u001b[1;32m   4383\u001b[0m                          \u001b[0mverbose_eval\u001b[0m\u001b[0;34m,\u001b[0m \u001b[0mmetric_period\u001b[0m\u001b[0;34m,\u001b[0m \u001b[0msilent\u001b[0m\u001b[0;34m,\u001b[0m \u001b[0mearly_stopping_rounds\u001b[0m\u001b[0;34m,\u001b[0m\u001b[0;34m\u001b[0m\u001b[0;34m\u001b[0m\u001b[0m\n\u001b[0;32m-> 4384\u001b[0;31m                          save_snapshot, snapshot_file, snapshot_interval, init_model)\n\u001b[0m\u001b[1;32m   4385\u001b[0m \u001b[0;34m\u001b[0m\u001b[0m\n\u001b[1;32m   4386\u001b[0m     \u001b[0;32mdef\u001b[0m \u001b[0mpredict\u001b[0m\u001b[0;34m(\u001b[0m\u001b[0mself\u001b[0m\u001b[0;34m,\u001b[0m \u001b[0mdata\u001b[0m\u001b[0;34m,\u001b[0m \u001b[0mntree_start\u001b[0m\u001b[0;34m=\u001b[0m\u001b[0;36m0\u001b[0m\u001b[0;34m,\u001b[0m \u001b[0mntree_end\u001b[0m\u001b[0;34m=\u001b[0m\u001b[0;36m0\u001b[0m\u001b[0;34m,\u001b[0m \u001b[0mthread_count\u001b[0m\u001b[0;34m=\u001b[0m\u001b[0;34m-\u001b[0m\u001b[0;36m1\u001b[0m\u001b[0;34m,\u001b[0m \u001b[0mverbose\u001b[0m\u001b[0;34m=\u001b[0m\u001b[0;32mNone\u001b[0m\u001b[0;34m)\u001b[0m\u001b[0;34m:\u001b[0m\u001b[0;34m\u001b[0m\u001b[0;34m\u001b[0m\u001b[0m\n",
            "\u001b[0;32m/usr/local/lib/python3.6/dist-packages/catboost/core.py\u001b[0m in \u001b[0;36m_fit\u001b[0;34m(self, X, y, cat_features, text_features, pairs, sample_weight, group_id, group_weight, subgroup_id, pairs_weight, baseline, use_best_model, eval_set, verbose, logging_level, plot, column_description, verbose_eval, metric_period, silent, early_stopping_rounds, save_snapshot, snapshot_file, snapshot_interval, init_model)\u001b[0m\n\u001b[1;32m   1724\u001b[0m                 \u001b[0mparams\u001b[0m\u001b[0;34m,\u001b[0m\u001b[0;34m\u001b[0m\u001b[0;34m\u001b[0m\u001b[0m\n\u001b[1;32m   1725\u001b[0m                 \u001b[0mallow_clear_pool\u001b[0m\u001b[0;34m,\u001b[0m\u001b[0;34m\u001b[0m\u001b[0;34m\u001b[0m\u001b[0m\n\u001b[0;32m-> 1726\u001b[0;31m                 \u001b[0mtrain_params\u001b[0m\u001b[0;34m[\u001b[0m\u001b[0;34m\"init_model\"\u001b[0m\u001b[0;34m]\u001b[0m\u001b[0;34m\u001b[0m\u001b[0;34m\u001b[0m\u001b[0m\n\u001b[0m\u001b[1;32m   1727\u001b[0m             )\n\u001b[1;32m   1728\u001b[0m \u001b[0;34m\u001b[0m\u001b[0m\n",
            "\u001b[0;32m/usr/local/lib/python3.6/dist-packages/catboost/core.py\u001b[0m in \u001b[0;36m_train\u001b[0;34m(self, train_pool, test_pool, params, allow_clear_pool, init_model)\u001b[0m\n\u001b[1;32m   1253\u001b[0m \u001b[0;34m\u001b[0m\u001b[0m\n\u001b[1;32m   1254\u001b[0m     \u001b[0;32mdef\u001b[0m \u001b[0m_train\u001b[0m\u001b[0;34m(\u001b[0m\u001b[0mself\u001b[0m\u001b[0;34m,\u001b[0m \u001b[0mtrain_pool\u001b[0m\u001b[0;34m,\u001b[0m \u001b[0mtest_pool\u001b[0m\u001b[0;34m,\u001b[0m \u001b[0mparams\u001b[0m\u001b[0;34m,\u001b[0m \u001b[0mallow_clear_pool\u001b[0m\u001b[0;34m,\u001b[0m \u001b[0minit_model\u001b[0m\u001b[0;34m)\u001b[0m\u001b[0;34m:\u001b[0m\u001b[0;34m\u001b[0m\u001b[0;34m\u001b[0m\u001b[0m\n\u001b[0;32m-> 1255\u001b[0;31m         \u001b[0mself\u001b[0m\u001b[0;34m.\u001b[0m\u001b[0m_object\u001b[0m\u001b[0;34m.\u001b[0m\u001b[0m_train\u001b[0m\u001b[0;34m(\u001b[0m\u001b[0mtrain_pool\u001b[0m\u001b[0;34m,\u001b[0m \u001b[0mtest_pool\u001b[0m\u001b[0;34m,\u001b[0m \u001b[0mparams\u001b[0m\u001b[0;34m,\u001b[0m \u001b[0mallow_clear_pool\u001b[0m\u001b[0;34m,\u001b[0m \u001b[0minit_model\u001b[0m\u001b[0;34m.\u001b[0m\u001b[0m_object\u001b[0m \u001b[0;32mif\u001b[0m \u001b[0minit_model\u001b[0m \u001b[0;32melse\u001b[0m \u001b[0;32mNone\u001b[0m\u001b[0;34m)\u001b[0m\u001b[0;34m\u001b[0m\u001b[0;34m\u001b[0m\u001b[0m\n\u001b[0m\u001b[1;32m   1256\u001b[0m         \u001b[0mself\u001b[0m\u001b[0;34m.\u001b[0m\u001b[0m_set_trained_model_attributes\u001b[0m\u001b[0;34m(\u001b[0m\u001b[0;34m)\u001b[0m\u001b[0;34m\u001b[0m\u001b[0;34m\u001b[0m\u001b[0m\n\u001b[1;32m   1257\u001b[0m \u001b[0;34m\u001b[0m\u001b[0m\n",
            "\u001b[0;32m_catboost.pyx\u001b[0m in \u001b[0;36m_catboost._CatBoost._train\u001b[0;34m()\u001b[0m\n",
            "\u001b[0;32m_catboost.pyx\u001b[0m in \u001b[0;36m_catboost._CatBoost._train\u001b[0;34m()\u001b[0m\n",
            "\u001b[0;31mKeyboardInterrupt\u001b[0m: "
          ]
        }
      ]
    },
    {
      "cell_type": "code",
      "metadata": {
        "id": "7nl9ReeDrfxY",
        "colab_type": "code",
        "outputId": "458d8fdf-4247-4770-ac5b-77593fc9c47f",
        "colab": {
          "base_uri": "https://localhost:8080/",
          "height": 126
        }
      },
      "source": [
        "optimizer.max"
      ],
      "execution_count": 0,
      "outputs": [
        {
          "output_type": "execute_result",
          "data": {
            "text/plain": [
              "{'params': {'colsample_bylevel': 0.6763514233486307,\n",
              "  'l2_leaf_reg': 0.39240391456470025,\n",
              "  'learning_rate': 0.03078496171814678,\n",
              "  'max_depth': 5.941162788606626,\n",
              "  'subsample': 0.7966067900567058},\n",
              " 'target': -2637.9234361322233}"
            ]
          },
          "metadata": {
            "tags": []
          },
          "execution_count": 22
        }
      ]
    },
    {
      "cell_type": "code",
      "metadata": {
        "id": "zycmCkwArvbW",
        "colab_type": "code",
        "colab": {}
      },
      "source": [
        "catress =  CatBoostRegressor(random_state=42,learning_rate=0.03078496171814678,subsample = 0.7966067900567058,iterations=3113,max_depth=int(round(5.941162788606626)),l2_leaf_reg =0.39240391456470025,colsample_bylevel=0.6763514233486307,eval_metric=\"MAE\",early_stopping_rounds=500)\n",
        "# catress.fit(X,y,verbose=500)"
      ],
      "execution_count": 0,
      "outputs": []
    },
    {
      "cell_type": "code",
      "metadata": {
        "id": "19HAL61zsPIB",
        "colab_type": "code",
        "outputId": "768faebc-2ce8-4b4c-9ed6-172847448776",
        "colab": {
          "base_uri": "https://localhost:8080/",
          "height": 235
        }
      },
      "source": [
        "test = pd.read_csv(\"./test.csv\")\n",
        "test.head()"
      ],
      "execution_count": 0,
      "outputs": [
        {
          "output_type": "execute_result",
          "data": {
            "text/html": [
              "<div>\n",
              "<style scoped>\n",
              "    .dataframe tbody tr th:only-of-type {\n",
              "        vertical-align: middle;\n",
              "    }\n",
              "\n",
              "    .dataframe tbody tr th {\n",
              "        vertical-align: top;\n",
              "    }\n",
              "\n",
              "    .dataframe thead th {\n",
              "        text-align: right;\n",
              "    }\n",
              "</style>\n",
              "<table border=\"1\" class=\"dataframe\">\n",
              "  <thead>\n",
              "    <tr style=\"text-align: right;\">\n",
              "      <th></th>\n",
              "      <th>Unnamed: 0</th>\n",
              "      <th>WellID</th>\n",
              "      <th>FirstMonthOil</th>\n",
              "      <th>FirstMonthGas</th>\n",
              "      <th>FirstMonthRatioGasOil</th>\n",
              "      <th>FirstMonthWater</th>\n",
              "      <th>firstMonthPercentWater</th>\n",
              "      <th>FirstMonthDaysOn</th>\n",
              "      <th>SecondMonthOil</th>\n",
              "      <th>SecondMonthGas</th>\n",
              "      <th>SecondMonthRatioGasOil</th>\n",
              "      <th>SecondMonthWater</th>\n",
              "      <th>SecondMonthPercentWater</th>\n",
              "      <th>SecondMonthDaysOn</th>\n",
              "      <th>ThirdMonthOil</th>\n",
              "      <th>ThirdMonthGas</th>\n",
              "      <th>ThirdMonthRatioGasOil</th>\n",
              "      <th>ThirdMonthWater</th>\n",
              "      <th>ThirdMonthPercentWater</th>\n",
              "      <th>ThirdMonthDaysOn</th>\n",
              "      <th>FourthMonthOil</th>\n",
              "      <th>FourthMonthGas</th>\n",
              "      <th>FourthMonthRatioGasOil</th>\n",
              "      <th>FourthMonthWater</th>\n",
              "      <th>FourthMonthPercentWater</th>\n",
              "      <th>FourthMonthDaysOn</th>\n",
              "      <th>FifthMonthOil</th>\n",
              "      <th>FifthMonthGas</th>\n",
              "      <th>FifthMonthRatioGasOil</th>\n",
              "      <th>FifthMonthWater</th>\n",
              "      <th>FifthMonthPercentWater</th>\n",
              "      <th>FifthMonthDaysOn</th>\n",
              "      <th>SixthMonthOil</th>\n",
              "      <th>SixthMonthGas</th>\n",
              "      <th>SixthMonthRatioGasOil</th>\n",
              "      <th>SixthMonthWater</th>\n",
              "      <th>SixthMonthPercentWater</th>\n",
              "      <th>SixthMonthDaysOn</th>\n",
              "      <th>TotalGasInNext6Months</th>\n",
              "    </tr>\n",
              "  </thead>\n",
              "  <tbody>\n",
              "    <tr>\n",
              "      <th>0</th>\n",
              "      <td>1</td>\n",
              "      <td>562</td>\n",
              "      <td>4548.0</td>\n",
              "      <td>15031.0</td>\n",
              "      <td>3.304969</td>\n",
              "      <td>7923.0</td>\n",
              "      <td>1.742084</td>\n",
              "      <td>31.0</td>\n",
              "      <td>4361.0</td>\n",
              "      <td>12504.0</td>\n",
              "      <td>2.867232</td>\n",
              "      <td>4257.0</td>\n",
              "      <td>0.976152</td>\n",
              "      <td>30.0</td>\n",
              "      <td>2911.0</td>\n",
              "      <td>8559.0</td>\n",
              "      <td>2.940227</td>\n",
              "      <td>2582.0</td>\n",
              "      <td>0.886980</td>\n",
              "      <td>31.0</td>\n",
              "      <td>2404.0</td>\n",
              "      <td>6081.0</td>\n",
              "      <td>2.529534</td>\n",
              "      <td>1822.0</td>\n",
              "      <td>0.757903</td>\n",
              "      <td>31.0</td>\n",
              "      <td>1925.0</td>\n",
              "      <td>4608.0</td>\n",
              "      <td>2.393766</td>\n",
              "      <td>1359.0</td>\n",
              "      <td>0.705974</td>\n",
              "      <td>30.0</td>\n",
              "      <td>1734.0</td>\n",
              "      <td>4000.0</td>\n",
              "      <td>2.306805</td>\n",
              "      <td>1282.0</td>\n",
              "      <td>0.739331</td>\n",
              "      <td>31.0</td>\n",
              "      <td>15321.0</td>\n",
              "    </tr>\n",
              "    <tr>\n",
              "      <th>1</th>\n",
              "      <td>2</td>\n",
              "      <td>16</td>\n",
              "      <td>15199.0</td>\n",
              "      <td>0.0</td>\n",
              "      <td>0.000000</td>\n",
              "      <td>0.0</td>\n",
              "      <td>0.000000</td>\n",
              "      <td>30.0</td>\n",
              "      <td>11067.0</td>\n",
              "      <td>0.0</td>\n",
              "      <td>0.000000</td>\n",
              "      <td>0.0</td>\n",
              "      <td>0.000000</td>\n",
              "      <td>31.0</td>\n",
              "      <td>154.0</td>\n",
              "      <td>183.0</td>\n",
              "      <td>1.188312</td>\n",
              "      <td>12.0</td>\n",
              "      <td>0.077922</td>\n",
              "      <td>1.0</td>\n",
              "      <td>3604.0</td>\n",
              "      <td>2493.0</td>\n",
              "      <td>0.691731</td>\n",
              "      <td>0.0</td>\n",
              "      <td>0.000000</td>\n",
              "      <td>15.0</td>\n",
              "      <td>10441.0</td>\n",
              "      <td>13457.0</td>\n",
              "      <td>1.288861</td>\n",
              "      <td>1197.0</td>\n",
              "      <td>0.114644</td>\n",
              "      <td>31.0</td>\n",
              "      <td>7212.0</td>\n",
              "      <td>20610.0</td>\n",
              "      <td>2.857737</td>\n",
              "      <td>0.0</td>\n",
              "      <td>0.000000</td>\n",
              "      <td>30.0</td>\n",
              "      <td>61855.0</td>\n",
              "    </tr>\n",
              "    <tr>\n",
              "      <th>2</th>\n",
              "      <td>5</td>\n",
              "      <td>5695</td>\n",
              "      <td>8664.0</td>\n",
              "      <td>6527.0</td>\n",
              "      <td>0.753347</td>\n",
              "      <td>2748.0</td>\n",
              "      <td>0.317175</td>\n",
              "      <td>17.0</td>\n",
              "      <td>6947.0</td>\n",
              "      <td>5068.0</td>\n",
              "      <td>0.729524</td>\n",
              "      <td>6802.0</td>\n",
              "      <td>0.979128</td>\n",
              "      <td>29.0</td>\n",
              "      <td>3470.0</td>\n",
              "      <td>2525.0</td>\n",
              "      <td>0.727666</td>\n",
              "      <td>2813.0</td>\n",
              "      <td>0.810663</td>\n",
              "      <td>19.0</td>\n",
              "      <td>1177.0</td>\n",
              "      <td>889.0</td>\n",
              "      <td>0.755310</td>\n",
              "      <td>963.0</td>\n",
              "      <td>0.818182</td>\n",
              "      <td>12.0</td>\n",
              "      <td>3216.0</td>\n",
              "      <td>1484.0</td>\n",
              "      <td>0.461443</td>\n",
              "      <td>2382.0</td>\n",
              "      <td>0.740672</td>\n",
              "      <td>17.0</td>\n",
              "      <td>507.0</td>\n",
              "      <td>392.0</td>\n",
              "      <td>0.773176</td>\n",
              "      <td>930.0</td>\n",
              "      <td>1.834320</td>\n",
              "      <td>5.0</td>\n",
              "      <td>12371.0</td>\n",
              "    </tr>\n",
              "    <tr>\n",
              "      <th>3</th>\n",
              "      <td>6</td>\n",
              "      <td>6185</td>\n",
              "      <td>14408.0</td>\n",
              "      <td>9223.0</td>\n",
              "      <td>0.640130</td>\n",
              "      <td>21573.0</td>\n",
              "      <td>1.497293</td>\n",
              "      <td>21.0</td>\n",
              "      <td>13753.0</td>\n",
              "      <td>8659.0</td>\n",
              "      <td>0.629608</td>\n",
              "      <td>15812.0</td>\n",
              "      <td>1.149713</td>\n",
              "      <td>31.0</td>\n",
              "      <td>7103.0</td>\n",
              "      <td>4863.0</td>\n",
              "      <td>0.684640</td>\n",
              "      <td>8190.0</td>\n",
              "      <td>1.153034</td>\n",
              "      <td>25.0</td>\n",
              "      <td>4873.0</td>\n",
              "      <td>3176.0</td>\n",
              "      <td>0.651755</td>\n",
              "      <td>5546.0</td>\n",
              "      <td>1.138108</td>\n",
              "      <td>20.0</td>\n",
              "      <td>6307.0</td>\n",
              "      <td>4311.0</td>\n",
              "      <td>0.683526</td>\n",
              "      <td>7129.0</td>\n",
              "      <td>1.130331</td>\n",
              "      <td>26.0</td>\n",
              "      <td>6849.0</td>\n",
              "      <td>4467.0</td>\n",
              "      <td>0.652212</td>\n",
              "      <td>7475.0</td>\n",
              "      <td>1.091400</td>\n",
              "      <td>31.0</td>\n",
              "      <td>23574.0</td>\n",
              "    </tr>\n",
              "    <tr>\n",
              "      <th>4</th>\n",
              "      <td>7</td>\n",
              "      <td>7919</td>\n",
              "      <td>10830.0</td>\n",
              "      <td>5868.0</td>\n",
              "      <td>0.541828</td>\n",
              "      <td>3749.0</td>\n",
              "      <td>0.346168</td>\n",
              "      <td>22.0</td>\n",
              "      <td>3712.0</td>\n",
              "      <td>1424.0</td>\n",
              "      <td>0.383621</td>\n",
              "      <td>5509.0</td>\n",
              "      <td>1.484106</td>\n",
              "      <td>24.0</td>\n",
              "      <td>4807.0</td>\n",
              "      <td>1991.0</td>\n",
              "      <td>0.414188</td>\n",
              "      <td>10489.0</td>\n",
              "      <td>2.182026</td>\n",
              "      <td>30.0</td>\n",
              "      <td>3703.0</td>\n",
              "      <td>2625.0</td>\n",
              "      <td>0.708885</td>\n",
              "      <td>7594.0</td>\n",
              "      <td>2.050770</td>\n",
              "      <td>30.0</td>\n",
              "      <td>6287.0</td>\n",
              "      <td>1160.0</td>\n",
              "      <td>0.184508</td>\n",
              "      <td>3562.0</td>\n",
              "      <td>0.566566</td>\n",
              "      <td>30.0</td>\n",
              "      <td>1648.0</td>\n",
              "      <td>473.0</td>\n",
              "      <td>0.287015</td>\n",
              "      <td>3207.0</td>\n",
              "      <td>1.945995</td>\n",
              "      <td>28.0</td>\n",
              "      <td>3220.0</td>\n",
              "    </tr>\n",
              "  </tbody>\n",
              "</table>\n",
              "</div>"
            ],
            "text/plain": [
              "   Unnamed: 0  WellID  ...  SixthMonthDaysOn  TotalGasInNext6Months\n",
              "0           1     562  ...              31.0                15321.0\n",
              "1           2      16  ...              30.0                61855.0\n",
              "2           5    5695  ...               5.0                12371.0\n",
              "3           6    6185  ...              31.0                23574.0\n",
              "4           7    7919  ...              28.0                 3220.0\n",
              "\n",
              "[5 rows x 39 columns]"
            ]
          },
          "metadata": {
            "tags": []
          },
          "execution_count": 118
        }
      ]
    },
    {
      "cell_type": "code",
      "metadata": {
        "id": "3PjGp4dasars",
        "colab_type": "code",
        "colab": {}
      },
      "source": [
        "# ids = test[\"WellID\"]\n",
        "# test.drop([\"WellID\",\"Unnamed: 0\"],axis=1,inplace=True)\n",
        "# preds = catress.predict(test)\n",
        "sub = {\"WellID\" : ids , \"TotalOilInNext6Months\" : (preds1-y.mean()*0.05)}\n",
        "sub = pd.DataFrame(sub)\n",
        "sub.to_csv(\"average41.csv\",index=False)"
      ],
      "execution_count": 0,
      "outputs": []
    },
    {
      "cell_type": "code",
      "metadata": {
        "id": "jOG15lTS1yYj",
        "colab_type": "code",
        "colab": {}
      },
      "source": [
        "scaler = StandardScaler()\n",
        "xtscaled = scaler.fit_transform(xt)\n",
        "\n",
        "xpscaled = scaler.transform(xp)"
      ],
      "execution_count": 0,
      "outputs": []
    },
    {
      "cell_type": "code",
      "metadata": {
        "id": "zIKXGzZ92XBG",
        "colab_type": "code",
        "colab": {}
      },
      "source": [
        "nn = Sequential()\n",
        "\n",
        "nn.add(Dense(128,activation=\"relu\"))\n",
        "nn.add(Dense(64,activation=\"relu\"))\n",
        "nn.add(Dense(64,activation=\"relu\"))\n",
        "nn.add(Dropout(0.2))\n",
        "nn.add(Dense(64,activation=\"relu\"))\n",
        "nn.add(Dropout(0.2))\n",
        "\n",
        "nn.add(Dense(1))\n",
        "\n",
        "opt =keras.optimizers.Adam(learning_rate=0.001, beta_1=0.9, beta_2=0.999, amsgrad=False)\n",
        "\n",
        "nn.compile(loss=\"mean_absolute_error\",optimizer=opt)"
      ],
      "execution_count": 0,
      "outputs": []
    },
    {
      "cell_type": "code",
      "metadata": {
        "id": "33Ck2rRZ4fd0",
        "colab_type": "code",
        "colab": {}
      },
      "source": [
        "ytshaped = yt.reset_index().drop(\"index\",axis=1).to_numpy().reshape(-1)\n",
        "ypshaped = yp.reset_index().drop(\"index\",axis=1).to_numpy().reshape(-1)"
      ],
      "execution_count": 0,
      "outputs": []
    },
    {
      "cell_type": "code",
      "metadata": {
        "id": "CPMZgxcT2bGS",
        "colab_type": "code",
        "colab": {}
      },
      "source": [
        "# nn.fit(xtscaled,ytshaped,validation_data=(xpscaled,ypshaped),epochs=200)"
      ],
      "execution_count": 0,
      "outputs": []
    },
    {
      "cell_type": "code",
      "metadata": {
        "id": "R5SuxLvVDPih",
        "colab_type": "code",
        "colab": {}
      },
      "source": [
        "cat4 =  CatBoostRegressor(random_state=63,learning_rate=0.03078496171814678,subsample = 0.5066067900567058,iterations=2500,max_depth=int(round(5.941162788606626)),l2_leaf_reg =0.3240391456470025,colsample_bylevel=0.5063514233486307,eval_metric=\"MAE\",early_stopping_rounds=500)\n",
        "# cat.fit(xt,yt,eval_set=Pool(xp,yp),verbose=500)"
      ],
      "execution_count": 0,
      "outputs": []
    },
    {
      "cell_type": "code",
      "metadata": {
        "id": "VTd-wctvEs0v",
        "colab_type": "code",
        "outputId": "e3291cae-bc60-491e-e44c-9c5a38a5105f",
        "colab": {
          "base_uri": "https://localhost:8080/",
          "height": 1000
        }
      },
      "source": [
        "def Sort_Tuple(tup):      \n",
        "    lst = len(tup)  \n",
        "    for i in range(0, lst):  \n",
        "          \n",
        "        for j in range(0, lst-i-1):  \n",
        "            if (tup[j][1] < tup[j + 1][1]):  \n",
        "                temp = tup[j]  \n",
        "                tup[j]= tup[j + 1]  \n",
        "                tup[j + 1]= temp  \n",
        "    return tup \n",
        "    \n",
        "feature_importances =cat.get_feature_importance()\n",
        "feature_importances = [(xt.columns[i],feature_importances[i])  for  i in range(len(feature_importances)) ]\n",
        "# importances = cat.get_feature_importance()\n",
        " \n",
        "feature_importances = Sort_Tuple(feature_importances)\n",
        "df = pd.DataFrame(feature_importances, columns=['feature', 'importance'])\n",
        "df.plot(kind='bar', x='feature',figsize=(10,10))\n",
        "targetted= []\n",
        "for i in range(25):\n",
        "    targetted.append(feature_importances[i][0])\n",
        "    \n",
        "feature_importances"
      ],
      "execution_count": 0,
      "outputs": [
        {
          "output_type": "execute_result",
          "data": {
            "text/plain": [
              "[('SixthMonthOil', 18.86133478632456),\n",
              " ('TotalGasInNext6Months', 13.42067855070818),\n",
              " ('FifthMonthOil', 10.363682735434292),\n",
              " ('ThirdMonthOil', 7.121908587108001),\n",
              " ('FirstMonthOil', 6.963590132615354),\n",
              " ('FourthMonthOil', 6.6166766742416545),\n",
              " ('SecondMonthOil', 6.425307501257805),\n",
              " ('SixthMonthRatioGasOil', 4.607973973080611),\n",
              " ('FifthMonthRatioGasOil', 2.400693611122374),\n",
              " ('SixthMonthGas', 2.106518212393846),\n",
              " ('FourthMonthRatioGasOil', 1.9689769128946297),\n",
              " ('SixthMonthDaysOn', 1.4222019049411),\n",
              " ('ThirdMonthRatioGasOil', 1.2899114030373615),\n",
              " ('SecondMonthRatioGasOil', 1.200033138087513),\n",
              " ('FifthMonthGas', 1.0769200659863698),\n",
              " ('FourthMonthGas', 1.0007282637821076),\n",
              " ('SecondMonthWater', 0.9950910622143089),\n",
              " ('FirstMonthGas', 0.8504103328212682),\n",
              " ('FirstMonthRatioGasOil', 0.842117754650158),\n",
              " ('FirstMonthDaysOn', 0.8115374727671067),\n",
              " ('ThirdMonthGas', 0.7369540852863039),\n",
              " ('FirstMonthWater', 0.7219042922302324),\n",
              " ('ThirdMonthDaysOn', 0.6981813226328678),\n",
              " ('SixthMonthWater', 0.6563671184044867),\n",
              " ('FifthMonthPercentWater', 0.6360228164692072),\n",
              " ('FourthMonthDaysOn', 0.6240953817230326),\n",
              " ('FourthMonthPercentWater', 0.6190453845204579),\n",
              " ('SecondMonthGas', 0.610106153031546),\n",
              " ('firstMonthPercentWater', 0.5810985952142456),\n",
              " ('FifthMonthDaysOn', 0.5437394458041019),\n",
              " ('ThirdMonthWater', 0.5249135970452767),\n",
              " ('SecondMonthPercentWater', 0.5187855936154323),\n",
              " ('SixthMonthPercentWater', 0.4772458465779005),\n",
              " ('ThirdMonthPercentWater', 0.46747826204650156),\n",
              " ('FourthMonthWater', 0.45261961567362863),\n",
              " ('FifthMonthWater', 0.4230673326820807),\n",
              " ('SecondMonthDaysOn', 0.36208208157406807)]"
            ]
          },
          "metadata": {
            "tags": []
          },
          "execution_count": 62
        },
        {
          "output_type": "display_data",
          "data": {
            "image/png": "[encoded data removed]",
            "text/plain": [
              "<Figure size 720x720 with 1 Axes>"
            ]
          },
          "metadata": {
            "tags": []
          }
        }
      ]
    },
    {
      "cell_type": "code",
      "metadata": {
        "id": "AyAVtwh2FQPK",
        "colab_type": "code",
        "outputId": "160762e4-8059-4a1d-eded-69bcec88f8cc",
        "colab": {
          "base_uri": "https://localhost:8080/",
          "height": 54
        }
      },
      "source": [
        "valscat = cat.predict(xp)\n",
        "print (mean_absolute_error(yp,valscat))\n",
        "valsnn = nn.predict(xpscaled)\n",
        "valsavg = []\n",
        "for i in range(len(valscat)):\n",
        "  valsavg.append((valscat[i]+valsnn[i])/2)\n",
        "print (mean_absolute_error(yp,valsavg))"
      ],
      "execution_count": 0,
      "outputs": [
        {
          "output_type": "stream",
          "text": [
            "2637.92343713223\n",
            "2649.1698006082124\n"
          ],
          "name": "stdout"
        }
      ]
    },
    {
      "cell_type": "code",
      "metadata": {
        "id": "7yWg3pugQjSL",
        "colab_type": "code",
        "colab": {}
      },
      "source": [
        "cat4 =  CatBoostRegressor(random_state=60,learning_rate=0.04078496171814678,subsample = 0.5966067900567058,iterations=2500,max_depth=int(round(5.941162788606626)),l2_leaf_reg =0.3240391456470025,colsample_bylevel=0.53514233486307,eval_metric=\"MAE\",early_stopping_rounds=500)\n",
        "# cat.fit(xt,yt,eval_set=Pool(xp,yp),verbose=500)"
      ],
      "execution_count": 0,
      "outputs": []
    },
    {
      "cell_type": "code",
      "metadata": {
        "id": "GPIpQOLtRO7U",
        "colab_type": "code",
        "outputId": "ef4b4431-2595-482f-f891-69e9bfa649a9",
        "colab": {
          "base_uri": "https://localhost:8080/",
          "height": 35
        }
      },
      "source": [
        "traindata.shape"
      ],
      "execution_count": 0,
      "outputs": [
        {
          "output_type": "execute_result",
          "data": {
            "text/plain": [
              "(9324, 38)"
            ]
          },
          "metadata": {
            "tags": []
          },
          "execution_count": 70
        }
      ]
    },
    {
      "cell_type": "code",
      "metadata": {
        "id": "mRr6C3ZqSfGF",
        "colab_type": "code",
        "outputId": "3ac4deb1-00a8-4ef6-fd23-6025b6419a62",
        "colab": {
          "base_uri": "https://localhost:8080/",
          "height": 726
        }
      },
      "source": [
        "traindata.eq(0).sum()"
      ],
      "execution_count": 0,
      "outputs": [
        {
          "output_type": "execute_result",
          "data": {
            "text/plain": [
              "FirstMonthOil                31\n",
              "FirstMonthGas               339\n",
              "FirstMonthRatioGasOil       369\n",
              "FirstMonthWater            3168\n",
              "firstMonthPercentWater     3175\n",
              "FirstMonthDaysOn           2825\n",
              "SecondMonthOil              284\n",
              "SecondMonthGas              338\n",
              "SecondMonthRatioGasOil      538\n",
              "SecondMonthWater           3121\n",
              "SecondMonthPercentWater    3137\n",
              "SecondMonthDaysOn          2882\n",
              "ThirdMonthOil               282\n",
              "ThirdMonthGas               304\n",
              "ThirdMonthRatioGasOil       507\n",
              "ThirdMonthWater            3035\n",
              "ThirdMonthPercentWater     3047\n",
              "ThirdMonthDaysOn           2881\n",
              "FourthMonthOil              328\n",
              "FourthMonthGas              312\n",
              "FourthMonthRatioGasOil      533\n",
              "FourthMonthWater           2995\n",
              "FourthMonthPercentWater    3014\n",
              "FourthMonthDaysOn          2907\n",
              "FifthMonthOil               344\n",
              "FifthMonthGas               322\n",
              "FifthMonthRatioGasOil       555\n",
              "FifthMonthWater            3001\n",
              "FifthMonthPercentWater     3021\n",
              "FifthMonthDaysOn           2905\n",
              "SixthMonthOil               341\n",
              "SixthMonthGas               317\n",
              "SixthMonthRatioGasOil       539\n",
              "SixthMonthWater            2963\n",
              "SixthMonthPercentWater     2983\n",
              "SixthMonthDaysOn           2912\n",
              "TotalOilInNext6Months        84\n",
              "TotalGasInNext6Months        80\n",
              "dtype: int64"
            ]
          },
          "metadata": {
            "tags": []
          },
          "execution_count": 71
        }
      ]
    },
    {
      "cell_type": "code",
      "metadata": {
        "id": "_aVry7r8UxDr",
        "colab_type": "code",
        "colab": {}
      },
      "source": [
        "xlstm = traindata.drop([\"TotalOilInNext6Months\",\"TotalGasInNext6Months\"],axis=1)"
      ],
      "execution_count": 0,
      "outputs": []
    },
    {
      "cell_type": "code",
      "metadata": {
        "id": "AXBKc191WZF2",
        "colab_type": "code",
        "colab": {}
      },
      "source": [
        "from sklearn.model_selection import GridSearchCV \n",
        "from sklearn.svm import SVR  "
      ],
      "execution_count": 0,
      "outputs": []
    },
    {
      "cell_type": "code",
      "metadata": {
        "id": "GWBwG2ZSct4m",
        "colab_type": "code",
        "outputId": "51f2dfbb-0af3-4b6d-dda3-087d4e517c31",
        "colab": {
          "base_uri": "https://localhost:8080/",
          "height": 54
        }
      },
      "source": [
        ""
      ],
      "execution_count": 0,
      "outputs": [
        {
          "output_type": "execute_result",
          "data": {
            "text/plain": [
              "SVR(C=1.0, cache_size=200, coef0=0.0, degree=3, epsilon=0.2, gamma='scale',\n",
              "    kernel='rbf', max_iter=-1, shrinking=True, tol=0.001, verbose=False)"
            ]
          },
          "metadata": {
            "tags": []
          },
          "execution_count": 76
        }
      ]
    },
    {
      "cell_type": "code",
      "metadata": {
        "id": "UREwR3SfeODm",
        "colab_type": "code",
        "outputId": "3e4c3c18-f89f-4316-a545-cc766c949210",
        "colab": {
          "base_uri": "https://localhost:8080/",
          "height": 35
        }
      },
      "source": [
        "# parameters = {'kernel': ('linear', 'rbf','poly'), 'C':[1.5, 10],'gamma': [1e-7, 1e-4],'epsilon':[0.1,0.2,0.5,0.3]}\n",
        "# svr = SVR()\n",
        "# clf = GridSearchCV(svr, parameters)\n",
        "# # mean_absolute_error(yp,valssvr)\n",
        "# clf.fit(xtscaled,yt)\n",
        "# clf.best_params_"
      ],
      "execution_count": 0,
      "outputs": [
        {
          "output_type": "execute_result",
          "data": {
            "text/plain": [
              "{'C': 10, 'epsilon': 0.5, 'gamma': 1e-07, 'kernel': 'linear'}"
            ]
          },
          "metadata": {
            "tags": []
          },
          "execution_count": 80
        }
      ]
    },
    {
      "cell_type": "code",
      "metadata": {
        "id": "XK5Y2UXziOCJ",
        "colab_type": "code",
        "colab": {}
      },
      "source": [
        "cat1 =  CatBoostRegressor(random_state=38,learning_rate=0.04078496171814678,subsample = 0.56067900567058,iterations=3000,max_depth=int(round(5.941162788606626)),l2_leaf_reg =0.39240391456470025,colsample_bylevel=0.63514233486307,eval_metric=\"MAE\",early_stopping_rounds=500)\n",
        "# cat1.fit(xt,yt,eval_set=Pool(xp,yp),verbose=500)"
      ],
      "execution_count": 0,
      "outputs": []
    },
    {
      "cell_type": "code",
      "metadata": {
        "id": "1yIQGdSnrpar",
        "colab_type": "code",
        "outputId": "e7cfffee-4365-4394-931d-d738f45b85a6",
        "colab": {
          "base_uri": "https://localhost:8080/",
          "height": 326
        }
      },
      "source": [
        "cat.fit(X,y,verbose=1000)\n",
        "cat4.fit(X,y,verbose=1000)\n",
        "cat1.fit(X,y,verbose=1000)\n",
        "catress.fit(X,y,verbose=1000)\n",
        "\n",
        "preds1= cat.predict(test)\n",
        "preds2= catress.predict(test)\n",
        "preds3= cat1.predict(test)\n",
        "preds4= cat4.predict(test)\n",
        "\n"
      ],
      "execution_count": 0,
      "outputs": [
        {
          "output_type": "stream",
          "text": [
            "0:\tlearn: 11582.4974182\ttotal: 9.13ms\tremaining: 22.8s\n",
            "1000:\tlearn: 1967.0212598\ttotal: 8.38s\tremaining: 12.5s\n",
            "2000:\tlearn: 1467.0249803\ttotal: 16.7s\tremaining: 4.16s\n",
            "2499:\tlearn: 1300.5814785\ttotal: 20.8s\tremaining: 0us\n",
            "0:\tlearn: 11582.9538990\ttotal: 7.35ms\tremaining: 18.4s\n",
            "1000:\tlearn: 2016.6844850\ttotal: 6.39s\tremaining: 9.56s\n",
            "2000:\tlearn: 1543.7206012\ttotal: 12.8s\tremaining: 3.2s\n",
            "2499:\tlearn: 1385.7706197\ttotal: 16s\tremaining: 0us\n",
            "0:\tlearn: 11497.5964586\ttotal: 8.27ms\tremaining: 24.8s\n",
            "1000:\tlearn: 1816.1138462\ttotal: 7.48s\tremaining: 14.9s\n",
            "2000:\tlearn: 1333.3677364\ttotal: 15.1s\tremaining: 7.54s\n",
            "2999:\tlearn: 1040.9435746\ttotal: 22.7s\tremaining: 0us\n",
            "0:\tlearn: 11578.3911620\ttotal: 9.55ms\tremaining: 29.7s\n",
            "1000:\tlearn: 1974.3500881\ttotal: 8.37s\tremaining: 17.7s\n",
            "2000:\tlearn: 1476.6311359\ttotal: 16.7s\tremaining: 9.31s\n",
            "3000:\tlearn: 1174.5301340\ttotal: 25.2s\tremaining: 939ms\n",
            "3112:\tlearn: 1146.5125472\ttotal: 26.1s\tremaining: 0us\n"
          ],
          "name": "stdout"
        }
      ]
    },
    {
      "cell_type": "code",
      "metadata": {
        "id": "7tSV6ofpiSz0",
        "colab_type": "code",
        "colab": {}
      },
      "source": [
        "for i in range(len(preds1)):\n",
        "  preds1[i]= preds1[i]*2/10+preds2[i]*2/10+preds3[i]*2/10+preds4[i]*4/10"
      ],
      "execution_count": 0,
      "outputs": []
    },
    {
      "cell_type": "code",
      "metadata": {
        "id": "rCQ-r89fvTJt",
        "colab_type": "code",
        "colab": {}
      },
      "source": [
        "# NUM_FEATURES = 6\n",
        "# nn = Sequential()\n",
        "# nn.add(keras.layers.LSTM(NUM_FEATURES,return_sequences=True,input_shape=(6,6),dropout=.20))\n",
        "# # nn.add(BatchNormalization())\n",
        "# nn.add(keras.layers.LSTM(NUM_FEATURES+1,dropout=.20))\n",
        "# # nn.add(BatchNormalization())\n",
        "# nn.add(Dense(NUM_FEATURES//2,activation=\"linear\"))\n",
        "# nn.add(Dropout(0.2))\n",
        "# nn.add(Dense(NUM_FEATURES//3,activation=\"linear\"))\n",
        "# nn.add(Dropout(0.2))\n",
        "# nn.add(Dense(1,activation=\"linear\"))\n",
        "# opt =keras.optimizers.Adam(learning_rate=0.0001, beta_1=0.9, beta_2=0.999, amsgrad=False)\n",
        "# nn.compile(loss=\"mse\",optimizer='adam',metrics=['mse','mae'])"
      ],
      "execution_count": 0,
      "outputs": []
    },
    {
      "cell_type": "code",
      "metadata": {
        "id": "iqztHY9ixRcv",
        "colab_type": "code",
        "colab": {}
      },
      "source": [
        "# nn.fit(xtscaled1,ytshaped,validation_data=(xpscaled1,ypshaped),epochs=100)"
      ],
      "execution_count": 0,
      "outputs": []
    }
  ]
}