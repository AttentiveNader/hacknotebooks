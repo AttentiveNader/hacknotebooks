{
  "nbformat": 4,
  "nbformat_minor": 0,
  "metadata": {
    "kernelspec": {
      "name": "python3",
      "display_name": "Python 3"
    },
    "language_info": {
      "codemirror_mode": {
        "name": "ipython",
        "version": 3
      },
      "file_extension": ".py",
      "mimetype": "text/x-python",
      "name": "python",
      "nbconvert_exporter": "python",
      "pygments_lexer": "ipython3",
      "version": "3.7.4"
    },
    "colab": {
      "name": "twitterdisaster.ipynb",
      "provenance": [],
      "collapsed_sections": [],
      "toc_visible": true,
      "include_colab_link": true
    },
    "accelerator": "TPU"
  },
  "cells": [
    {
      "cell_type": "markdown",
      "metadata": {
        "id": "view-in-github",
        "colab_type": "text"
      },
      "source": [
        "<a href=\"https://colab.research.google.com/github/NaderJS/hacknotebooks/blob/master/twitterdisaster.ipynb\" target=\"_parent\"><img src=\"https://colab.research.google.com/assets/colab-badge.svg\" alt=\"Open In Colab\"/></a>"
      ]
    },
    {
      "cell_type": "markdown",
      "metadata": {
        "id": "fX3rjGOvTDFh",
        "colab_type": "text"
      },
      "source": [
        "Twitter Disaster Classification\n",
        "\n",
        "https://www.kaggle.com/c/nlp-getting-started"
      ]
    },
    {
      "cell_type": "code",
      "metadata": {
        "id": "AWgK5vxP1kL2",
        "colab_type": "code",
        "outputId": "2473ff89-9955-4a1e-9793-f13fe822f6ac",
        "colab": {
          "base_uri": "https://localhost:8080/",
          "height": 101
        }
      },
      "source": [
        "import pandas as pd\n",
        "import numpy as np \n",
        "from nltk import word_tokenize\n",
        "from nltk.stem  import PorterStemmer\n",
        "import tensorflow as tf\n",
        "from tensorflow import keras\n",
        "from tensorflow.keras import layers\n",
        "from sklearn.model_selection import train_test_split\n",
        "from sklearn.preprocessing import LabelEncoder\n",
        "import gensim \n",
        "from sklearn import preprocessing\n",
        "from keras.layers import Input,Dense,Embedding,LSTM,Dropout,Activation\n",
        "from keras.layers import Bidirectional,GlobalMaxPool1D\n",
        "from keras.preprocessing.text import Tokenizer\n",
        "from keras.preprocessing.sequence import pad_sequences\n",
        "from sklearn.metrics import accuracy_score\n",
        "from nltk.corpus import wordnet "
      ],
      "execution_count": 0,
      "outputs": [
        {
          "output_type": "display_data",
          "data": {
            "text/html": [
              "<p style=\"color: red;\">\n",
              "The default version of TensorFlow in Colab will soon switch to TensorFlow 2.x.<br>\n",
              "We recommend you <a href=\"https://www.tensorflow.org/guide/migrate\" target=\"_blank\">upgrade</a> now \n",
              "or ensure your notebook will continue to use TensorFlow 1.x via the <code>%tensorflow_version 1.x</code> magic:\n",
              "<a href=\"https://colab.research.google.com/notebooks/tensorflow_version.ipynb\" target=\"_blank\">more info</a>.</p>\n"
            ],
            "text/plain": [
              "<IPython.core.display.HTML object>"
            ]
          },
          "metadata": {
            "tags": []
          }
        },
        {
          "output_type": "stream",
          "text": [
            "Using TensorFlow backend.\n"
          ],
          "name": "stderr"
        }
      ]
    },
    {
      "cell_type": "code",
      "metadata": {
        "id": "Wmm-i-fSGjtJ",
        "colab_type": "code",
        "outputId": "0ca12bd5-2875-4525-e346-087b8ed0a73e",
        "colab": {
          "base_uri": "https://localhost:8080/",
          "height": 35
        }
      },
      "source": [
        "tf.test.is_gpu_available(\n",
        "    # cuda_only=False,\n",
        "    # min_cuda_compute_capability=None\n",
        ")"
      ],
      "execution_count": 0,
      "outputs": [
        {
          "output_type": "execute_result",
          "data": {
            "text/plain": [
              "True"
            ]
          },
          "metadata": {
            "tags": []
          },
          "execution_count": 3
        }
      ]
    },
    {
      "cell_type": "code",
      "metadata": {
        "id": "tXxqZ5zc2Tld",
        "colab_type": "code",
        "outputId": "f7bef522-7440-4a74-eb7d-7e89084e5101",
        "colab": {
          "base_uri": "https://localhost:8080/",
          "height": 72
        }
      },
      "source": [
        "import nltk \n",
        "nltk.download(\"punkt\")"
      ],
      "execution_count": 0,
      "outputs": [
        {
          "output_type": "stream",
          "text": [
            "[nltk_data] Downloading package punkt to /root/nltk_data...\n",
            "[nltk_data]   Unzipping tokenizers/punkt.zip.\n"
          ],
          "name": "stdout"
        },
        {
          "output_type": "execute_result",
          "data": {
            "text/plain": [
              "True"
            ]
          },
          "metadata": {
            "tags": []
          },
          "execution_count": 3
        }
      ]
    },
    {
      "cell_type": "code",
      "metadata": {
        "id": "bSFSK_nO1kMF",
        "colab_type": "code",
        "colab": {}
      },
      "source": [
        "def removepunc(my_str):\n",
        "    punctuations = '''!()-[]{};:'\"\\,<>./?@#$%^&*_~'''\n",
        "    no_punct = \"\"\n",
        "    for char in my_str:\n",
        "        if char not in punctuations:\n",
        "            no_punct = no_punct + char\n",
        "    return no_punct"
      ],
      "execution_count": 0,
      "outputs": []
    },
    {
      "cell_type": "code",
      "metadata": {
        "id": "b6lOVl8B1kMN",
        "colab_type": "code",
        "colab": {}
      },
      "source": [
        ""
      ],
      "execution_count": 0,
      "outputs": []
    },
    {
      "cell_type": "code",
      "metadata": {
        "id": "X6Idn3a86bb6",
        "colab_type": "code",
        "outputId": "093a9373-6628-4aec-9e22-3692f261beb0",
        "colab": {
          "base_uri": "https://localhost:8080/",
          "height": 35
        }
      },
      "source": [
        "data.text[30]"
      ],
      "execution_count": 0,
      "outputs": [
        {
          "output_type": "execute_result",
          "data": {
            "text/plain": [
              "['the', 'end']"
            ]
          },
          "metadata": {
            "tags": []
          },
          "execution_count": 47
        }
      ]
    },
    {
      "cell_type": "code",
      "metadata": {
        "id": "5_wHMGH3BWKz",
        "colab_type": "code",
        "colab": {}
      },
      "source": [
        "embedded_size = 100\n",
        "max_features = 10000\n",
        "maxlen = 125"
      ],
      "execution_count": 0,
      "outputs": []
    },
    {
      "cell_type": "code",
      "metadata": {
        "id": "lU5rQBbkgjA_",
        "colab_type": "code",
        "outputId": "142fd990-5e54-4708-b896-6740178fe6aa",
        "colab": {
          "base_uri": "https://localhost:8080/",
          "height": 72
        }
      },
      "source": [
        "from nltk.corpus import stopwords\n",
        "from nltk.stem import SnowballStemmer\n",
        "\n",
        "# You will have to download the set of stop words the first time\n",
        "# import nltk\n",
        "nltk.download('stopwords')\n"
      ],
      "execution_count": 0,
      "outputs": [
        {
          "output_type": "stream",
          "text": [
            "[nltk_data] Downloading package stopwords to /root/nltk_data...\n",
            "[nltk_data]   Unzipping corpora/stopwords.zip.\n"
          ],
          "name": "stdout"
        },
        {
          "output_type": "execute_result",
          "data": {
            "text/plain": [
              "True"
            ]
          },
          "metadata": {
            "tags": []
          },
          "execution_count": 5
        }
      ]
    },
    {
      "cell_type": "code",
      "metadata": {
        "id": "3C0319Mo11uO",
        "colab_type": "code",
        "outputId": "4a10efe5-33b1-475c-efa0-1b9509d31825",
        "colab": {
          "base_uri": "https://localhost:8080/",
          "height": 35
        }
      },
      "source": [
        "len(xtest),len(test)"
      ],
      "execution_count": 0,
      "outputs": [
        {
          "output_type": "execute_result",
          "data": {
            "text/plain": [
              "3264"
            ]
          },
          "metadata": {
            "tags": []
          },
          "execution_count": 51
        }
      ]
    },
    {
      "cell_type": "code",
      "metadata": {
        "id": "qHtwX57njyEQ",
        "colab_type": "code",
        "outputId": "9cbaaba3-0d3d-4051-88bd-3603fe4b8531",
        "colab": {
          "base_uri": "https://localhost:8080/",
          "height": 72
        }
      },
      "source": [
        "from nltk.corpus import wordnet\n",
        "stops = stopwords.words(\"english\")\n",
        "nltk.download(\"wordnet\")\n",
        "\n",
        "# stops = stops[:-30]"
      ],
      "execution_count": 0,
      "outputs": [
        {
          "output_type": "stream",
          "text": [
            "[nltk_data] Downloading package wordnet to /root/nltk_data...\n",
            "[nltk_data]   Unzipping corpora/wordnet.zip.\n"
          ],
          "name": "stdout"
        },
        {
          "output_type": "execute_result",
          "data": {
            "text/plain": [
              "True"
            ]
          },
          "metadata": {
            "tags": []
          },
          "execution_count": 6
        }
      ]
    },
    {
      "cell_type": "code",
      "metadata": {
        "id": "nwzV6seC1kMR",
        "colab_type": "code",
        "outputId": "41710a8d-0f83-4d94-c239-f2ee26dd3a6d",
        "colab": {
          "base_uri": "https://localhost:8080/",
          "height": 237
        }
      },
      "source": [
        "data = pd.read_csv(\"./train.csv\")\n",
        "test = pd.read_csv(\"./test.csv\")\n",
        "stemmer = SnowballStemmer(\"english\")\n",
        "# data.text =  data.text.apply(lambda x :[i for i in word_tokenize(removepunc(x.lower()))])\n",
        "# test.text =  test.text.apply(lambda x :[i for i in word_tokenize(removepunc(x.lower()))])\n",
        "data.text =  data.text.apply(lambda x : [stemmer.stem(i) for i in word_tokenize(removepunc(x.lower()))])\n",
        "test.text =  test.text.apply(lambda x : [stemmer.stem(i) for i in word_tokenize(removepunc(x.lower()))])\n",
        "print(len(test.text))\n",
        "allwords = []\n",
        "mapedwords = 0\n",
        "for i,v in enumerate(data.text):\n",
        "  sentence = \"\" \n",
        "  for t in v :\n",
        "    if t in stops :\n",
        "      continue\n",
        "    if  \"http\" in t  :\n",
        "      allwords.append(\"http\")\n",
        "      sentence +=  \"http \" \n",
        "      continue\n",
        "    allwords.append(t)\n",
        "    sentence += t + \" \"\n",
        "  data.text[i] = sentence\n",
        "\n",
        "# print(len(set(allwords)))\n",
        "vocab = list(set(allwords))\n",
        "mappedwords = 0\n",
        "print(len(vocab))\n",
        "print(len(text.t))\n",
        "for _,v in enumerate(test.text):\n",
        "  sentence = \"\"\n",
        "  for t in v :\n",
        "    if t in stops :\n",
        "      continue\n",
        "    if  \"http\" in t  :\n",
        "      allwords.append(\"http\")\n",
        "      sentence += \"http \"\n",
        "      continue\n",
        "    if t not in vocab :\n",
        "      tset = wordnet.synsets(t)\n",
        "      sims = []\n",
        "      if len(tset) >= 1 :\n",
        "        for  word in vocab :\n",
        "          wordset = wordnet.synsets(word)\n",
        "          if len(wordset) >=1 :\n",
        "            similarity = tset[0].wup_similarity(wordset[0])\n",
        "            if similarity is not None : \n",
        "              sims.append(similarity)\n",
        "            # if similarity >= 0.75 :\n",
        "            #   sentence += word+\" \"\n",
        "            #   allwords.append(t)\n",
        "        if len(sims) >0 :\n",
        "          index = np.argmax(sims)\n",
        "          mappedwords +=1 \n",
        "          allwords.append(t)\n",
        "          sentence += vocab[index]+\" \"\n",
        "        else:\n",
        "          allwords.append(t)\n",
        "          sentence+= t+\" \"\n",
        "        continue\n",
        "\n",
        "\n",
        "\n",
        "    allwords.append(t)\n",
        "    sentence+= t+\" \"\n",
        "  test.text[i] = sentence\n",
        "\n",
        "        \n",
        "vocab = set(allwords)\n",
        "len(vocab)"
      ],
      "execution_count": 0,
      "outputs": [
        {
          "output_type": "stream",
          "text": [
            "3263\n"
          ],
          "name": "stdout"
        },
        {
          "output_type": "stream",
          "text": [
            "/usr/local/lib/python3.6/dist-packages/ipykernel_launcher.py:22: SettingWithCopyWarning: \n",
            "A value is trying to be set on a copy of a slice from a DataFrame\n",
            "\n",
            "See the caveats in the documentation: http://pandas.pydata.org/pandas-docs/stable/user_guide/indexing.html#returning-a-view-versus-a-copy\n"
          ],
          "name": "stderr"
        },
        {
          "output_type": "stream",
          "text": [
            "14958\n"
          ],
          "name": "stdout"
        },
        {
          "output_type": "stream",
          "text": [
            "/usr/local/lib/python3.6/dist-packages/ipykernel_launcher.py:64: SettingWithCopyWarning: \n",
            "A value is trying to be set on a copy of a slice from a DataFrame\n",
            "\n",
            "See the caveats in the documentation: http://pandas.pydata.org/pandas-docs/stable/user_guide/indexing.html#returning-a-view-versus-a-copy\n"
          ],
          "name": "stderr"
        },
        {
          "output_type": "execute_result",
          "data": {
            "text/plain": [
              "18887"
            ]
          },
          "metadata": {
            "tags": []
          },
          "execution_count": 11
        }
      ]
    },
    {
      "cell_type": "code",
      "metadata": {
        "id": "7YaSZ45ctzrv",
        "colab_type": "code",
        "outputId": "7e817853-8fbe-4116-82d4-4316bee9ba65",
        "colab": {
          "base_uri": "https://localhost:8080/",
          "height": 35
        }
      },
      "source": [
        "mappedwords"
      ],
      "execution_count": 0,
      "outputs": [
        {
          "output_type": "execute_result",
          "data": {
            "text/plain": [
              "733"
            ]
          },
          "metadata": {
            "tags": []
          },
          "execution_count": 9
        }
      ]
    },
    {
      "cell_type": "code",
      "metadata": {
        "id": "4fBeJM8JQdHG",
        "colab_type": "code",
        "outputId": "1da269e2-bb36-4197-f5cd-5eea53387baa",
        "colab": {
          "base_uri": "https://localhost:8080/",
          "height": 128
        }
      },
      "source": [
        "for i in data.text.index:\n",
        "  data.text[i] = encoder.transform(data.text[i])"
      ],
      "execution_count": 0,
      "outputs": [
        {
          "output_type": "stream",
          "text": [
            "/usr/local/lib/python3.6/dist-packages/ipykernel_launcher.py:2: SettingWithCopyWarning: \n",
            "A value is trying to be set on a copy of a slice from a DataFrame\n",
            "\n",
            "See the caveats in the documentation: http://pandas.pydata.org/pandas-docs/stable/user_guide/indexing.html#returning-a-view-versus-a-copy\n",
            "  \n"
          ],
          "name": "stderr"
        }
      ]
    },
    {
      "cell_type": "code",
      "metadata": {
        "id": "-7qSq0vAQvTs",
        "colab_type": "code",
        "outputId": "996b6d42-d34a-4da9-907f-2a46ce04c5a2",
        "colab": {
          "base_uri": "https://localhost:8080/",
          "height": 35
        }
      },
      "source": [
        "xtest."
      ],
      "execution_count": 0,
      "outputs": [
        {
          "output_type": "execute_result",
          "data": {
            "text/plain": [
              "(3264, 125)"
            ]
          },
          "metadata": {
            "tags": []
          },
          "execution_count": 13
        }
      ]
    },
    {
      "cell_type": "code",
      "metadata": {
        "id": "jCcqoREr7odJ",
        "colab_type": "code",
        "colab": {}
      },
      "source": [
        "xt,xp,yt,yp= train_test_split(data.text,data.target)\n",
        "tokenizer = Tokenizer(num_words = max_features)\n",
        "tokenizer.fit_on_texts(list(data.text.values))\n",
        "train = tokenizer.texts_to_sequences(data.text.values)\n",
        "train = pad_sequences(train, maxlen=maxlen) \n",
        "xt = tokenizer.texts_to_sequences(xt.values)\n",
        "xt = pad_sequences(xt, maxlen=maxlen)\n",
        "xp = tokenizer.texts_to_sequences(xp.values)\n",
        "xp = pad_sequences(xp, maxlen=maxlen)\n",
        "xtest = tokenizer.texts_to_sequences(test.text.values)\n",
        "xtest = pad_sequences(xtest, maxlen=maxlen)\n",
        "\n",
        "\n",
        "\n"
      ],
      "execution_count": 0,
      "outputs": []
    },
    {
      "cell_type": "code",
      "metadata": {
        "id": "bS_uHUvGkRoB",
        "colab_type": "code",
        "outputId": "9f6d1233-1daf-4b37-a60c-f70af4421a0e",
        "colab": {
          "base_uri": "https://localhost:8080/",
          "height": 35
        }
      },
      "source": [
        "len(xtest)"
      ],
      "execution_count": 0,
      "outputs": [
        {
          "output_type": "execute_result",
          "data": {
            "text/plain": [
              "3264"
            ]
          },
          "metadata": {
            "tags": []
          },
          "execution_count": 11
        }
      ]
    },
    {
      "cell_type": "code",
      "metadata": {
        "id": "uhu6pbLr2yWi",
        "colab_type": "code",
        "outputId": "c95c2879-35ff-46dd-80ba-fbd0cdcf0798",
        "colab": {
          "base_uri": "https://localhost:8080/",
          "height": 35
        }
      },
      "source": [
        "len(pd.read_csv(\"./test.csv\")[\"id\"])"
      ],
      "execution_count": 0,
      "outputs": [
        {
          "output_type": "execute_result",
          "data": {
            "text/plain": [
              "3263"
            ]
          },
          "metadata": {
            "tags": []
          },
          "execution_count": 12
        }
      ]
    },
    {
      "cell_type": "code",
      "metadata": {
        "id": "ZqTfM4IcL7lT",
        "colab_type": "code",
        "outputId": "bcf413b2-2c47-43e0-bba1-f929f95ade80",
        "colab": {
          "base_uri": "https://localhost:8080/",
          "height": 454
        }
      },
      "source": [
        "embedding_dim=16\n",
        "\n",
        "model = keras.Sequential([\n",
        "  layers.Embedding(len(vocab), 300),\n",
        "  # layers.Dropout(0.2),\n",
        "  layers.Bidirectional(layers.LSTM(128,return_sequences=True)),\n",
        "  # layers.Bidirectional(layers.LSTM(32,return_sequences=True)),\n",
        "  layers.Bidirectional(layers.LSTM(64,return_sequences=True)),\n",
        "  layers.Dropout(0.2),\n",
        "  layers.GlobalAveragePooling1D(),\n",
        "  layers.Dense(32, activation='relu'),\n",
        "  layers.Dropout(0.2),  \n",
        "  layers.Dense(1,activation=\"sigmoid\")\n",
        "])\n",
        "\n",
        "model.summary()"
      ],
      "execution_count": 0,
      "outputs": [
        {
          "output_type": "stream",
          "text": [
            "Model: \"sequential_2\"\n",
            "_________________________________________________________________\n",
            "Layer (type)                 Output Shape              Param #   \n",
            "=================================================================\n",
            "embedding_2 (Embedding)      (None, None, 300)         5666100   \n",
            "_________________________________________________________________\n",
            "bidirectional_4 (Bidirection (None, None, 256)         439296    \n",
            "_________________________________________________________________\n",
            "bidirectional_5 (Bidirection (None, None, 128)         164352    \n",
            "_________________________________________________________________\n",
            "dropout_4 (Dropout)          (None, None, 128)         0         \n",
            "_________________________________________________________________\n",
            "global_average_pooling1d_2 ( (None, 128)               0         \n",
            "_________________________________________________________________\n",
            "dense_4 (Dense)              (None, 32)                4128      \n",
            "_________________________________________________________________\n",
            "dropout_5 (Dropout)          (None, 32)                0         \n",
            "_________________________________________________________________\n",
            "dense_5 (Dense)              (None, 1)                 33        \n",
            "=================================================================\n",
            "Total params: 6,273,909\n",
            "Trainable params: 6,273,909\n",
            "Non-trainable params: 0\n",
            "_________________________________________________________________\n"
          ],
          "name": "stdout"
        }
      ]
    },
    {
      "cell_type": "code",
      "metadata": {
        "id": "nWCHI2Yjbklq",
        "colab_type": "code",
        "colab": {}
      },
      "source": [
        "model.compile(optimizer='adam',\n",
        "              loss=\"binary_crossentropy\",\n",
        "              metrics=['accuracy'])\n",
        "\n"
      ],
      "execution_count": 0,
      "outputs": []
    },
    {
      "cell_type": "code",
      "metadata": {
        "id": "EqmaHaitFMCj",
        "colab_type": "code",
        "outputId": "9509a111-273b-473f-d42d-1a1d1c423e30",
        "colab": {
          "base_uri": "https://localhost:8080/",
          "height": 108
        }
      },
      "source": [
        "history = model.fit(\n",
        "    train,data.target.to_numpy(),\n",
        "    epochs=2\n",
        "    )"
      ],
      "execution_count": 0,
      "outputs": [
        {
          "output_type": "stream",
          "text": [
            "Train on 7613 samples\n",
            "Epoch 1/2\n",
            "7613/7613 [==============================] - 161s 21ms/sample - loss: 0.6030 - acc: 0.6766\n",
            "Epoch 2/2\n",
            "7613/7613 [==============================] - 157s 21ms/sample - loss: 0.4226 - acc: 0.8395\n"
          ],
          "name": "stdout"
        }
      ]
    },
    {
      "cell_type": "code",
      "metadata": {
        "id": "Ai1lU1ujz0Uv",
        "colab_type": "code",
        "outputId": "6d6b4649-025b-4ca5-fb48-75bd03125e26",
        "colab": {
          "base_uri": "https://localhost:8080/",
          "height": 74
        }
      },
      "source": [
        "history = model.fit(\n",
        "    xt,\n",
        "    yt,validation_data=(xp,yp),\n",
        "    epochs=1\n",
        "    )"
      ],
      "execution_count": 0,
      "outputs": [
        {
          "output_type": "stream",
          "text": [
            "Train on 5709 samples, validate on 1904 samples\n",
            "5709/5709 [==============================] - 130s 23ms/sample - loss: 0.4312 - acc: 0.8303 - val_loss: 0.4921 - val_acc: 0.7726\n"
          ],
          "name": "stdout"
        }
      ]
    },
    {
      "cell_type": "code",
      "metadata": {
        "id": "OWPG3gif1kMd",
        "colab_type": "code",
        "outputId": "60cb9038-00eb-4e63-b6f0-5b89f20b5c0e",
        "colab": {
          "base_uri": "https://localhost:8080/",
          "height": 35
        }
      },
      "source": [
        "vals = model.predict(xp)\n",
        "accuracy_score(yp,[cat(i) for  i in vals])"
      ],
      "execution_count": 0,
      "outputs": [
        {
          "output_type": "execute_result",
          "data": {
            "text/plain": [
              "0.805672268907563"
            ]
          },
          "metadata": {
            "tags": []
          },
          "execution_count": 33
        }
      ]
    },
    {
      "cell_type": "code",
      "metadata": {
        "id": "uAvm2n6qB8SS",
        "colab_type": "code",
        "colab": {}
      },
      "source": [
        "# embedding_dim=16\n",
        "\n",
        "# model = keras.Sequential([\n",
        "#   layers.Embedding(len(vocab), 50),\n",
        "#   layers.Bidirectional(layers.LSTM(64,return_sequences=True)),  \n",
        "#   layers.Bidirectional(layers.LSTM(32,return_sequences=True)),\n",
        "#   # layers.Dropout(0.2),\n",
        "#   # layers.Bidirectional(layers.LSTM(32,return_sequences=True)),\n",
        "#   # layers.Dropout(0.2),\n",
        "#   layers.GlobalAveragePooling1D(),\n",
        "#   layers.Dense(32, activation='relu'),\n",
        "#   layers.Dropout(0.2),  \n",
        "#   layers.Dense(1,activation=\"sigmoid\")\n",
        "# ])\n",
        "\n",
        "# model.summary()\n",
        "\n",
        "# model.compile(optimizer='adam',\n",
        "#               loss=\"binary_crossentropy\",\n",
        "#               metrics=['accuracy'])\n",
        "\n"
      ],
      "execution_count": 0,
      "outputs": []
    },
    {
      "cell_type": "code",
      "metadata": {
        "id": "Nstc-7MfEyKi",
        "colab_type": "code",
        "colab": {}
      },
      "source": [
        "# history = model.fit(\n",
        "#     xt,\n",
        "#     yt,validation_data=(xp,yp),\n",
        "#     epochs=5\n",
        "#     )"
      ],
      "execution_count": 0,
      "outputs": []
    },
    {
      "cell_type": "code",
      "metadata": {
        "id": "zeBfT6kUEEqr",
        "colab_type": "code",
        "colab": {}
      },
      "source": [
        "preds = model.predict(xtest)\n"
      ],
      "execution_count": 0,
      "outputs": []
    },
    {
      "cell_type": "code",
      "metadata": {
        "id": "NZ0REixltQxR",
        "colab_type": "code",
        "colab": {}
      },
      "source": [
        "def cat(x):\n",
        "  if x >= 0.5:\n",
        "    return 1\n",
        "  else:\n",
        "    return 0\n",
        "preds = [cat(x) for x in np.reshape(preds,(-1))]"
      ],
      "execution_count": 0,
      "outputs": []
    },
    {
      "cell_type": "code",
      "metadata": {
        "id": "FXT91G3H0szu",
        "colab_type": "code",
        "outputId": "357ce5f5-b219-4d21-83d9-d145bd545455",
        "colab": {
          "base_uri": "https://localhost:8080/",
          "height": 108
        }
      },
      "source": [
        "test.iloc[3262]"
      ],
      "execution_count": 0,
      "outputs": [
        {
          "output_type": "execute_result",
          "data": {
            "text/plain": [
              "id                                                      10875\n",
              "keyword                                                   NaN\n",
              "location                                                  NaN\n",
              "text        [cityofcalgari, has, activ, it, municip, emerg...\n",
              "Name: 3262, dtype: object"
            ]
          },
          "metadata": {
            "tags": []
          },
          "execution_count": 55
        }
      ]
    },
    {
      "cell_type": "code",
      "metadata": {
        "id": "O-xseoPQ1kMp",
        "colab_type": "code",
        "colab": {}
      },
      "source": [
        "ids = pd.read_csv(\"./test.csv\").id\n",
        "\n",
        "pd.DataFrame({\"id\":ids,\"target\":preds}).to_csv(\"sub1.1.csv\",index=False)"
      ],
      "execution_count": 0,
      "outputs": []
    },
    {
      "cell_type": "code",
      "metadata": {
        "id": "5nV0gpqS1kMy",
        "colab_type": "code",
        "colab": {}
      },
      "source": [
        "maxlength = (data.text.apply(lambda x : len(x))).max()"
      ],
      "execution_count": 0,
      "outputs": []
    },
    {
      "cell_type": "code",
      "metadata": {
        "id": "2K49AW5t1kM5",
        "colab_type": "code",
        "outputId": "a3309e82-b1cb-4f22-f935-9c18c0256b60",
        "colab": {}
      },
      "source": [
        "maxlength"
      ],
      "execution_count": 0,
      "outputs": [
        {
          "output_type": "execute_result",
          "data": {
            "text/plain": [
              "157"
            ]
          },
          "metadata": {
            "tags": []
          },
          "execution_count": 23
        }
      ]
    }
  ]
}